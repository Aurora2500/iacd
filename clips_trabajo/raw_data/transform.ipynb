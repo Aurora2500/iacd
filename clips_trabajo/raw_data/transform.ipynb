{
 "cells": [
  {
   "cell_type": "code",
   "execution_count": 22,
   "metadata": {},
   "outputs": [],
   "source": [
    "import json\n",
    "with open(\"data.json\") as f:\n",
    "\tdata = json.load(f)"
   ]
  },
  {
   "cell_type": "code",
   "execution_count": 47,
   "metadata": {},
   "outputs": [
    {
     "data": {
      "text/plain": [
       "212"
      ]
     },
     "execution_count": 47,
     "metadata": {},
     "output_type": "execute_result"
    }
   ],
   "source": [
    "recipes = data[\"recipe\"]\n",
    "len(recipes)"
   ]
  },
  {
   "attachments": {},
   "cell_type": "markdown",
   "metadata": {},
   "source": [
    "# Categories"
   ]
  },
  {
   "cell_type": "code",
   "execution_count": 24,
   "metadata": {},
   "outputs": [
    {
     "data": {
      "text/plain": [
       "['crafting',\n",
       " 'advanced-crafting',\n",
       " 'smelting',\n",
       " 'chemistry',\n",
       " 'rocket-building',\n",
       " 'basic-crafting',\n",
       " 'centrifuging',\n",
       " 'oil-processing',\n",
       " 'crafting-with-fluid']"
      ]
     },
     "execution_count": 24,
     "metadata": {},
     "output_type": "execute_result"
    }
   ],
   "source": [
    "list(data[\"recipe-category\"].keys())"
   ]
  },
  {
   "cell_type": "code",
   "execution_count": 25,
   "metadata": {},
   "outputs": [],
   "source": [
    "recipes_by_cat = {\n",
    "\tcat: [\n",
    "\t\trecipe\n",
    "\t\tfor recipe in data[\"recipe\"].values()\n",
    "\t\tif recipe.get('category', 'crafting') == cat\n",
    "\t]\n",
    "\tfor cat in data[\"recipe-category\"]\n",
    "}"
   ]
  },
  {
   "cell_type": "code",
   "execution_count": 26,
   "metadata": {},
   "outputs": [
    {
     "name": "stdout",
     "output_type": "stream",
     "text": [
      "crafting 165\n",
      "advanced-crafting 1\n",
      "smelting 4\n",
      "chemistry 12\n",
      "rocket-building 1\n",
      "basic-crafting 0\n",
      "centrifuging 4\n",
      "oil-processing 3\n",
      "crafting-with-fluid 22\n"
     ]
    }
   ],
   "source": [
    "for cat, rs in recipes_by_cat.items():\n",
    "\tprint(cat, len(rs))"
   ]
  },
  {
   "cell_type": "code",
   "execution_count": 27,
   "metadata": {},
   "outputs": [
    {
     "data": {
      "text/plain": [
       "dict_keys(['oil-refinery', 'assembling-machine-3', 'assembling-machine-2', 'assembling-machine-1', 'chemical-plant', 'centrifuge'])"
      ]
     },
     "execution_count": 27,
     "metadata": {},
     "output_type": "execute_result"
    }
   ],
   "source": [
    "data[\"assembling-machine\"].keys()"
   ]
  },
  {
   "cell_type": "code",
   "execution_count": 38,
   "metadata": {},
   "outputs": [
    {
     "data": {
      "text/plain": [
       "{'emissions_per_minute': 3,\n",
       " 'type': 'electric',\n",
       " 'usage_priority': 'secondary-input'}"
      ]
     },
     "execution_count": 38,
     "metadata": {},
     "output_type": "execute_result"
    }
   ],
   "source": [
    "data[\"assembling-machine\"][\"assembling-machine-2\"][\"energy_source\"]"
   ]
  },
  {
   "cell_type": "code",
   "execution_count": 29,
   "metadata": {},
   "outputs": [
    {
     "name": "stdout",
     "output_type": "stream",
     "text": [
      "iron-plate\n",
      "stone-brick\n",
      "steel-plate\n",
      "copper-plate\n"
     ]
    }
   ],
   "source": [
    "for r in recipes_by_cat[\"smelting\"]:\n",
    "\t# print(r)\n",
    "\tif \"result\" in r:\n",
    "\t\tprint(r[\"result\"])\n",
    "\telif \"normal\" in r:\n",
    "\t\tprint(r[\"normal\"][\"result\"])"
   ]
  },
  {
   "cell_type": "code",
   "execution_count": 46,
   "metadata": {},
   "outputs": [
    {
     "data": {
      "text/plain": [
       "{'fuel_inventory_size': 1,\n",
       " 'light_flicker': {'maximum_intensity': 0.95,\n",
       "  'minimum_intensity': 0.6,\n",
       "  'color': [0, 0, 0]},\n",
       " 'fuel_category': 'chemical',\n",
       " 'effectivity': 1,\n",
       " 'type': 'burner',\n",
       " 'smoke': [{'frequency': 5,\n",
       "   'name': 'smoke',\n",
       "   'starting_frame_deviation': 60,\n",
       "   'starting_vertical_speed': 0.08,\n",
       "   'position': [0, -0.8],\n",
       "   'deviation': [0.1, 0.1]}],\n",
       " 'emissions_per_minute': 2}"
      ]
     },
     "execution_count": 46,
     "metadata": {},
     "output_type": "execute_result"
    }
   ],
   "source": [
    "data[\"furnace\"][\"stone-furnace\"][\"energy_source\"]"
   ]
  },
  {
   "attachments": {},
   "cell_type": "markdown",
   "metadata": {},
   "source": [
    "# Recipes"
   ]
  },
  {
   "cell_type": "code",
   "execution_count": 57,
   "metadata": {},
   "outputs": [
    {
     "data": {
      "text/plain": [
       "{'subgroup': 'fluid-recipes',\n",
       " 'icon_mipmaps': 4,\n",
       " 'energy_required': 2,\n",
       " 'type': 'recipe',\n",
       " 'results': [{'amount': 1, 'name': 'solid-fuel', 'type': 'item'}],\n",
       " 'order': 'b[fluid-chemistry]-c[solid-fuel-from-light-oil]',\n",
       " 'name': 'solid-fuel-from-light-oil',\n",
       " 'category': 'chemistry',\n",
       " 'icon_size': 64,\n",
       " 'enabled': False,\n",
       " 'icon': '__base__/graphics/icons/solid-fuel-from-light-oil.png',\n",
       " 'ingredients': [{'amount': 10, 'name': 'light-oil', 'type': 'fluid'}],\n",
       " 'crafting_machine_tint': {'tertiary': {'g': 0.773,\n",
       "   'b': 0.596,\n",
       "   'a': 1,\n",
       "   'r': 0.894},\n",
       "  'quaternary': {'g': 0.583, 'b': 0.202, 'a': 1, 'r': 0.812},\n",
       "  'secondary': {'g': 0.672, 'b': 0.527, 'a': 1, 'r': 0.745},\n",
       "  'primary': {'g': 0.633, 'b': 0.482, 'a': 1, 'r': 0.71}}}"
      ]
     },
     "execution_count": 57,
     "metadata": {},
     "output_type": "execute_result"
    }
   ],
   "source": [
    "example_recipe = recipes[\"solid-fuel-from-light-oil\"]\n",
    "example_recipe"
   ]
  }
 ],
 "metadata": {
  "kernelspec": {
   "display_name": "Python 3",
   "language": "python",
   "name": "python3"
  },
  "language_info": {
   "codemirror_mode": {
    "name": "ipython",
    "version": 3
   },
   "file_extension": ".py",
   "mimetype": "text/x-python",
   "name": "python",
   "nbconvert_exporter": "python",
   "pygments_lexer": "ipython3",
   "version": "3.10.8"
  },
  "orig_nbformat": 4
 },
 "nbformat": 4,
 "nbformat_minor": 2
}
