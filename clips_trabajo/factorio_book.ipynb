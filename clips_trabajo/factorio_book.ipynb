{
 "cells": [
  {
   "cell_type": "code",
   "execution_count": 1,
   "metadata": {},
   "outputs": [],
   "source": [
    "from factorio import FactorioCalc, create_tree\n",
    "calc = FactorioCalc()"
   ]
  },
  {
   "cell_type": "code",
   "execution_count": 4,
   "metadata": {},
   "outputs": [
    {
     "name": "stdout",
     "output_type": "stream",
     "text": [
      "electronic-circuit 200 (need 8 solar-pannel for 3 assembling-machine-2)\n",
      "| copper-cable 600 (need 11 solar-pannel for 4 assembling-machine-2)\n",
      "| | copper-plate 300 (need 1 coal for 9 steel-furnace)\n",
      "| | | copper-ore 300\n",
      "| iron-plate 200 (need 1 coal for 6 steel-furnace)\n",
      "| | iron-ore 200\n"
     ]
    }
   ],
   "source": [
    "t = calc.production_tree('electronic-circuit', 200)\n",
    "t.print_tree()"
   ]
  },
  {
   "cell_type": "code",
   "execution_count": 6,
   "metadata": {},
   "outputs": [
    {
     "name": "stdout",
     "output_type": "stream",
     "text": [
      "copper-plate 300 (need 1 coal for 9 steel-furnace)\n",
      "| copper-ore 300\n"
     ]
    }
   ],
   "source": [
    "t = calc.production_tree('copper-plate', 300)\n",
    "t.print_tree()"
   ]
  }
 ],
 "metadata": {
  "kernelspec": {
   "display_name": "Python 3",
   "language": "python",
   "name": "python3"
  },
  "language_info": {
   "codemirror_mode": {
    "name": "ipython",
    "version": 3
   },
   "file_extension": ".py",
   "mimetype": "text/x-python",
   "name": "python",
   "nbconvert_exporter": "python",
   "pygments_lexer": "ipython3",
   "version": "3.10.8"
  },
  "orig_nbformat": 4,
  "vscode": {
   "interpreter": {
    "hash": "bbfdeb62a5108ee44bd519a0a38d4a3d58a182ad3f28a9e9691d05a9f1d4998f"
   }
  }
 },
 "nbformat": 4,
 "nbformat_minor": 2
}
