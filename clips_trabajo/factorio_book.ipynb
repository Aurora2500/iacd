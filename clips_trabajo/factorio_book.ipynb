{
 "cells": [
  {
   "cell_type": "code",
   "execution_count": 1,
   "metadata": {},
   "outputs": [],
   "source": [
    "from factorio import FactorioCalc, create_tree\n",
    "calc = FactorioCalc()"
   ]
  },
  {
   "cell_type": "code",
   "execution_count": 2,
   "metadata": {},
   "outputs": [
    {
     "name": "stdout",
     "output_type": "stream",
     "text": [
      "electronic-circuit 200 (need 6 solar-pannel for 4 assembling-machine-1)\n",
      "| copper-cable 600 (need 8 solar-pannel for 6 assembling-machine-1)\n",
      "| | copper-plate 300 (need 1 coal for 17 stone-furnace)\n",
      "| | | copper-ore 300\n",
      "| iron-plate 200 (need 1 coal for 11 stone-furnace)\n",
      "| | iron-ore 200\n"
     ]
    }
   ],
   "source": [
    "t = calc.production_tree('electronic-circuit', 200)\n",
    "t.print_tree()"
   ]
  },
  {
   "cell_type": "code",
   "execution_count": 3,
   "metadata": {},
   "outputs": [
    {
     "name": "stdout",
     "output_type": "stream",
     "text": [
      "nuclear-reactor 4 (need 3 solar-pannel for 2 assembling-machine-1)\n",
      "| copper-plate 2000 (need 3 coal for 107 stone-furnace)\n",
      "| | copper-ore 2000\n",
      "| advanced-circuit 2000 (need 502 solar-pannel for 401 assembling-machine-1)\n",
      "| | copper-cable 8000 (need 84 solar-pannel for 67 assembling-machine-1)\n",
      "| | | copper-plate 4000 (need 5 coal for 214 stone-furnace)\n",
      "| | | | copper-ore 4000\n",
      "| | plastic-bar 4000 (need 120 solar-pannel for 34 chemical-plant)\n",
      "| | | coal 2000\n",
      "| | | petroleum-gas 40000 (need 526 solar-pannel for 75 oil-refinery)\n",
      "| | | | crude-oil 88889\n",
      "| | electronic-circuit 4000 (need 84 solar-pannel for 67 assembling-machine-1)\n",
      "| | | copper-cable 12000 (need 127 solar-pannel for 101 assembling-machine-1)\n",
      "| | | | copper-plate 6000 (need 8 coal for 321 stone-furnace)\n",
      "| | | | | copper-ore 6000\n",
      "| | | iron-plate 4000 (need 5 coal for 214 stone-furnace)\n",
      "| | | | iron-ore 4000\n",
      "| steel-plate 2000 (need 1334 solar-pannel for 1067 assembling-machine-1)\n",
      "| | iron-plate 10000 (need 13 coal for 534 stone-furnace)\n",
      "| | | iron-ore 10000\n",
      "| concrete 2000\n"
     ]
    }
   ],
   "source": [
    "t = calc.production_tree('nuclear-reactor', 4)\n",
    "t.print_tree()"
   ]
  },
  {
   "cell_type": "code",
   "execution_count": 5,
   "metadata": {},
   "outputs": [
    {
     "name": "stdout",
     "output_type": "stream",
     "text": [
      "nuclear-reactor 4 (need 7 solar-pannel for 1 assembling-machine-3)\n",
      "| copper-plate 2000 (need 163 solar-pannel for 54 electric-furnace)\n",
      "| | copper-ore 2000\n",
      "| advanced-circuit 2000 (need 1007 solar-pannel for 161 assembling-machine-3)\n",
      "| | copper-cable 8000 (need 169 solar-pannel for 27 assembling-machine-3)\n",
      "| | | copper-plate 4000 (need 322 solar-pannel for 107 electric-furnace)\n",
      "| | | | copper-ore 4000\n",
      "| | plastic-bar 4000 (need 120 solar-pannel for 34 chemical-plant)\n",
      "| | | coal 2000\n",
      "| | | petroleum-gas 40000 (need 526 solar-pannel for 75 oil-refinery)\n",
      "| | | | crude-oil 88889\n",
      "| | electronic-circuit 4000 (need 169 solar-pannel for 27 assembling-machine-3)\n",
      "| | | copper-cable 12000 (need 257 solar-pannel for 41 assembling-machine-3)\n",
      "| | | | copper-plate 6000 (need 484 solar-pannel for 161 electric-furnace)\n",
      "| | | | | copper-ore 6000\n",
      "| | | iron-plate 4000 (need 322 solar-pannel for 107 electric-furnace)\n",
      "| | | | iron-ore 4000\n",
      "| steel-plate 2000 (need 2669 solar-pannel for 427 assembling-machine-3)\n",
      "| | iron-plate 10000 (need 802 solar-pannel for 267 electric-furnace)\n",
      "| | | iron-ore 10000\n",
      "| concrete 2000 (need 169 solar-pannel for 27 assembling-machine-3)\n",
      "| | water 20000\n",
      "| | iron-ore 200\n",
      "| | stone-brick 1000 (need 82 solar-pannel for 27 electric-furnace)\n",
      "| | | stone 2000\n"
     ]
    }
   ],
   "source": [
    "calc.set_factory('assembler', 'assembling-machine-3')\n",
    "calc.set_factory('furnace', 'electric-furnace')\n",
    "t = calc.production_tree('nuclear-reactor', 4)\n",
    "t.print_tree()"
   ]
  }
 ],
 "metadata": {
  "kernelspec": {
   "display_name": "Python 3",
   "language": "python",
   "name": "python3"
  },
  "language_info": {
   "codemirror_mode": {
    "name": "ipython",
    "version": 3
   },
   "file_extension": ".py",
   "mimetype": "text/x-python",
   "name": "python",
   "nbconvert_exporter": "python",
   "pygments_lexer": "ipython3",
   "version": "3.10.8"
  },
  "orig_nbformat": 4,
  "vscode": {
   "interpreter": {
    "hash": "bbfdeb62a5108ee44bd519a0a38d4a3d58a182ad3f28a9e9691d05a9f1d4998f"
   }
  }
 },
 "nbformat": 4,
 "nbformat_minor": 2
}
