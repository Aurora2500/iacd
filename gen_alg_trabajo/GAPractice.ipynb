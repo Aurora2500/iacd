{
 "cells": [
  {
   "cell_type": "markdown",
   "metadata": {},
   "source": [
    "# Práctica sobre algoritmos genéticos\n",
    "\n",
    "<img src=\"imgs/tren.jpg\">\n",
    "\n",
    "\n",
    "Un área ferroviaria de carga/descarga con una única vía de entrada y otra salida se compone de tres muelles de carga/descarga: Op1, Op2 y Op3, correspondientes a contenedores, carbón y gas. Por tanto, cada tren que llega se dirige a un muelle en función de su carga. Un tren tarda en cargar o descargar un tiempo proporcional al número de vagones que arrastra. Cada día llegan secuencialmente n trenes. Si los trenes son de cargas distintas, pueden entrar en paralelo a los muelles. Cuando dos trenes con el mismo tipo de carga se encuentran seguidos, el segundo debe esperar por el primero, así como todos los demás que se encuentren por detrás.\n",
    "\n",
    "\n",
    "Se nos plantea resolver, mediante un algoritmo genético, el problema de la ordenación en la entrada de los trenes para minimizar el tiempo de paso del conjunto de trenes.\n",
    "\n",
    "\n",
    "<img src=\"imgs/docks.jpg\" width=\"70%\">"
   ]
  },
  {
   "cell_type": "code",
   "execution_count": 1,
   "metadata": {},
   "outputs": [],
   "source": [
    "import random\n",
    "import numpy\n",
    "from deap import base, creator, tools, algorithms"
   ]
  },
  {
   "cell_type": "markdown",
   "metadata": {},
   "source": [
    "## Trenes\n",
    "\n",
    "En el siguiente código, <code>random_trains_generation</code> genera los trenes que llegarán en un día. Cada ordenación diferente de este conjunto corresponderá con un **individuo** en nuestro eaquema de algoritmo genético."
   ]
  },
  {
   "cell_type": "code",
   "execution_count": 2,
   "metadata": {},
   "outputs": [],
   "source": [
    "import random\n",
    "# from deap import base, creator, tools\n",
    "\n",
    "class Train:\n",
    "    def __init__(self, wagons, op, licence_plate):\n",
    "        self.wagons = wagons\n",
    "        self.op = op\n",
    "        self.licence_plate = licence_plate\n",
    "\n",
    "    def __str__(self):\n",
    "        return \"Número de vagones:\" + str(self.wagons) \\\n",
    "        + \"\\n\" + \"Muelle de operaciones:\" + str(self.op) \\\n",
    "        + \"\\n\" + \"Matrícula:\" + str(self.licence_plate)\n",
    "    \n",
    "    def __repr__(self):\n",
    "        return f\"Train({self.wagons}, '{self.op}', {self.licence_plate})\"\n",
    "\n",
    "def random_trains_generation(n):\n",
    "\n",
    "    train_list = []\n",
    "    \n",
    "    for i in range(n):\n",
    "        wagons = random.randint(10, 30)  # Cada tren puede arrastrar entre 10 y 30 vagones\n",
    "        op = random.choice([\"op1\", \"op2\", \"op3\"])  # A cada tren se le asigna un tipo de carga\n",
    "        train_list.append(Train(wagons, op, i))\n",
    "\n",
    "    return train_list\n"
   ]
  },
  {
   "cell_type": "code",
   "execution_count": 3,
   "metadata": {},
   "outputs": [
    {
     "name": "stdout",
     "output_type": "stream",
     "text": [
      "Número de vagones:17\n",
      "Muelle de operaciones:op2\n",
      "Matrícula:7\n"
     ]
    },
    {
     "data": {
      "text/plain": [
       "Train(17, 'op2', 7)"
      ]
     },
     "execution_count": 3,
     "metadata": {},
     "output_type": "execute_result"
    }
   ],
   "source": [
    "trains = random_trains_generation(25)\n",
    "\n",
    "print(trains[7])\n",
    "trains[7]"
   ]
  },
  {
   "attachments": {},
   "cell_type": "markdown",
   "metadata": {},
   "source": [
    "# Solución"
   ]
  },
  {
   "cell_type": "code",
   "execution_count": 4,
   "metadata": {},
   "outputs": [],
   "source": [
    "from collections import defaultdict\n",
    "\n",
    "def trains_cost(indices, trains):\n",
    "    loaders = defaultdict(lambda: 0)\n",
    "    time = 0\n",
    "    for i in indices:\n",
    "        train = trains[i]\n",
    "        time = max(time, loaders[train.op])\n",
    "        loaders[train.op] = time + train.wagons\n",
    "    return max(*loaders.values()),\n"
   ]
  },
  {
   "attachments": {},
   "cell_type": "markdown",
   "metadata": {},
   "source": [
    "# Usando DEAP"
   ]
  },
  {
   "cell_type": "code",
   "execution_count": 5,
   "metadata": {},
   "outputs": [],
   "source": [
    "creator.create(\"FitnessMin\", base.Fitness, weights=(-1.0,))\n",
    "creator.create(\"Individual\", list, fitness=creator.FitnessMin)"
   ]
  },
  {
   "cell_type": "code",
   "execution_count": 7,
   "metadata": {},
   "outputs": [],
   "source": [
    "def shuffle_trains(size):\n",
    "    ind = creator.Individual(range(size))\n",
    "    random.shuffle(ind)\n",
    "    return ind"
   ]
  },
  {
   "cell_type": "code",
   "execution_count": 85,
   "metadata": {},
   "outputs": [],
   "source": [
    "import numpy as np\n",
    "\n",
    "TRAIN_LEN = 25\n",
    "\n",
    "toolbox = base.Toolbox()\n",
    "all_trains = random_trains_generation(TRAIN_LEN)\n",
    "toolbox.register(\"individual\", shuffle_trains, TRAIN_LEN)\n",
    "toolbox.register(\"population\", tools.initRepeat, list, toolbox.individual)\n",
    "\n",
    "toolbox.register(\"evaluate\", trains_cost, trains=all_trains)\n",
    "toolbox.register(\"mate\", tools.cxOrdered)\n",
    "toolbox.register(\"mutate\", tools.mutShuffleIndexes, indpb=0.05)\n",
    "toolbox.register(\"select\", tools.selTournament, tournsize=3)\n",
    "\n",
    "pop = toolbox.population(n=100)"
   ]
  },
  {
   "cell_type": "code",
   "execution_count": 96,
   "metadata": {},
   "outputs": [
    {
     "name": "stdout",
     "output_type": "stream",
     "text": [
      "gen\tnevals\tavg   \tmin\tmax\n",
      "0  \t0     \t202.77\t198\t255\n",
      "1  \t59    \t204.03\t198\t288\n",
      "2  \t52    \t201.61\t198\t250\n",
      "3  \t62    \t203.41\t198\t275\n",
      "4  \t53    \t202.61\t198\t288\n",
      "5  \t61    \t201.22\t198\t251\n",
      "6  \t59    \t202.07\t198\t256\n",
      "7  \t57    \t200.83\t198\t259\n",
      "8  \t54    \t200.62\t198\t244\n",
      "9  \t64    \t200.77\t198\t264\n",
      "10 \t62    \t201.15\t198\t250\n",
      "11 \t57    \t203.13\t198\t252\n",
      "12 \t69    \t202.83\t198\t250\n",
      "13 \t66    \t202.02\t198\t281\n",
      "14 \t57    \t203.22\t198\t268\n",
      "15 \t61    \t203.9 \t198\t256\n",
      "16 \t58    \t202.89\t198\t258\n",
      "17 \t66    \t200.47\t198\t246\n",
      "18 \t69    \t205.1 \t198\t278\n",
      "19 \t60    \t202.75\t198\t253\n",
      "20 \t64    \t202.31\t198\t264\n",
      "21 \t67    \t203.77\t198\t263\n",
      "22 \t59    \t202.11\t198\t266\n",
      "23 \t63    \t202.05\t198\t252\n",
      "24 \t66    \t204.77\t198\t272\n",
      "25 \t60    \t202.81\t198\t278\n",
      "26 \t63    \t201.17\t198\t253\n",
      "27 \t65    \t202.13\t198\t253\n",
      "28 \t59    \t201.68\t198\t260\n",
      "29 \t55    \t201.57\t198\t240\n",
      "30 \t52    \t202.67\t198\t268\n",
      "31 \t59    \t204.45\t198\t281\n",
      "32 \t61    \t200.44\t198\t259\n",
      "33 \t69    \t201.76\t198\t251\n",
      "34 \t63    \t203.84\t198\t286\n",
      "35 \t67    \t204.15\t198\t265\n",
      "36 \t55    \t202.81\t198\t271\n",
      "37 \t52    \t202.33\t198\t264\n",
      "38 \t60    \t201.47\t198\t254\n",
      "39 \t53    \t202.4 \t198\t250\n",
      "40 \t55    \t202.84\t198\t255\n",
      "41 \t60    \t201.27\t198\t245\n",
      "42 \t56    \t204.23\t198\t287\n",
      "43 \t63    \t201   \t198\t266\n",
      "44 \t55    \t203.83\t198\t327\n",
      "45 \t65    \t205.46\t198\t274\n",
      "46 \t57    \t202.4 \t198\t244\n",
      "47 \t68    \t203.86\t198\t258\n",
      "48 \t56    \t203.92\t198\t260\n",
      "49 \t54    \t199.97\t198\t236\n",
      "50 \t68    \t201.91\t198\t254\n",
      "51 \t58    \t202.51\t198\t257\n",
      "52 \t64    \t201.18\t198\t253\n",
      "53 \t62    \t202.63\t198\t270\n",
      "54 \t64    \t203.41\t198\t298\n",
      "55 \t56    \t203.71\t198\t255\n",
      "56 \t59    \t202.48\t198\t261\n",
      "57 \t67    \t202.58\t198\t298\n",
      "58 \t62    \t203.99\t198\t266\n",
      "59 \t56    \t204.37\t198\t278\n",
      "60 \t60    \t202.98\t198\t314\n",
      "61 \t54    \t202.35\t198\t273\n",
      "62 \t57    \t202.92\t198\t264\n",
      "63 \t58    \t201.16\t198\t266\n",
      "64 \t63    \t201.96\t198\t299\n",
      "65 \t52    \t200.44\t198\t249\n",
      "66 \t44    \t202.58\t198\t263\n",
      "67 \t54    \t200.58\t198\t255\n",
      "68 \t68    \t201.69\t198\t264\n",
      "69 \t53    \t202.09\t198\t278\n",
      "70 \t62    \t202.72\t198\t257\n",
      "71 \t46    \t201.52\t198\t274\n",
      "72 \t66    \t202.93\t198\t264\n",
      "73 \t57    \t204.89\t198\t271\n",
      "74 \t62    \t203.7 \t198\t285\n",
      "75 \t64    \t205.08\t198\t272\n",
      "76 \t50    \t203.43\t198\t284\n",
      "77 \t57    \t201.6 \t198\t243\n",
      "78 \t64    \t202.18\t198\t289\n",
      "79 \t63    \t203.62\t198\t270\n",
      "80 \t49    \t202.17\t198\t260\n",
      "81 \t49    \t203.14\t198\t277\n",
      "82 \t55    \t200.28\t198\t254\n",
      "83 \t68    \t201.6 \t198\t241\n",
      "84 \t53    \t204.3 \t198\t280\n",
      "85 \t49    \t200.24\t198\t243\n",
      "86 \t60    \t202.77\t198\t291\n",
      "87 \t51    \t201   \t198\t283\n",
      "88 \t68    \t202.5 \t198\t264\n",
      "89 \t58    \t205   \t198\t267\n",
      "90 \t69    \t203.72\t198\t265\n",
      "91 \t67    \t204.19\t198\t266\n",
      "92 \t65    \t201.43\t198\t272\n",
      "93 \t56    \t202.5 \t198\t267\n",
      "94 \t63    \t203.21\t198\t269\n",
      "95 \t60    \t203.38\t198\t289\n",
      "96 \t62    \t204.32\t198\t260\n",
      "97 \t53    \t203.98\t198\t270\n",
      "98 \t58    \t203.95\t198\t270\n",
      "99 \t59    \t201.96\t198\t259\n",
      "100\t59    \t200.79\t198\t249\n"
     ]
    }
   ],
   "source": [
    "hof = tools.HallOfFame(4)\n",
    "\n",
    "stats = tools.Statistics(lambda indiv: indiv.fitness.values)\n",
    "stats.register(\"avg\", np.mean)\n",
    "stats.register(\"min\", np.min)\n",
    "stats.register(\"max\", np.max)\n",
    "\n",
    "pop, logbook = algorithms.eaSimple(pop, toolbox, cxpb=0.5, mutpb=0.2, ngen=100, stats=stats, halloffame=hof, verbose=True)\n"
   ]
  },
  {
   "cell_type": "code",
   "execution_count": 106,
   "metadata": {},
   "outputs": [
    {
     "name": "stdout",
     "output_type": "stream",
     "text": [
      "[9, 16, 7, 19, 20, 10, 2, 22, 4, 18, 24, 0, 1, 21, 11, 13, 6, 3, 5, 15, 14, 12, 23, 17, 8] (198.0,)\n",
      "[16, 9, 7, 19, 20, 10, 2, 22, 18, 4, 24, 0, 1, 21, 11, 13, 6, 3, 5, 15, 14, 12, 23, 17, 8] (198.0,)\n",
      "[9, 16, 7, 19, 20, 10, 2, 22, 18, 4, 24, 0, 1, 21, 11, 13, 6, 3, 5, 15, 14, 12, 23, 17, 8] (198.0,)\n",
      "[17, 16, 7, 19, 20, 10, 2, 22, 4, 18, 24, 0, 1, 21, 11, 13, 6, 3, 5, 15, 14, 12, 23, 8, 9] (198.0,)\n"
     ]
    }
   ],
   "source": [
    "for i in range(4):\n",
    "\t\tprint(hof[i], hof[i].fitness.values)"
   ]
  },
  {
   "cell_type": "code",
   "execution_count": 151,
   "metadata": {},
   "outputs": [],
   "source": [
    "from PIL import Image, ImageDraw, ImageFont\n",
    "\n",
    "width, height = 1920, 1080\n",
    "\n",
    "def animate_trains(trains):\n",
    "\timages = []\n",
    "\ttimer = 0\n",
    "\tloaders = {'op1':None,'op2': None, 'op3': None}\n",
    "\tfor train in trains:\n",
    "\t\timg = Image.new('RGB', (width, height), (180, 180, 180))\n",
    "\t\tdraw = ImageDraw.Draw(img)\n",
    "\t\t# get a 50 px font\n",
    "\t\tfnt = ImageFont.truetype('BebasNeue-Regular.ttf', 50)\n",
    "\t\t#draw.text((50, 50), \"howdy\", font=fnt)\n",
    "\t\tlower_track = 0.9 * height\n",
    "\t\tupper_track = 0.1*height\n",
    "\t\tdraw.line((0, lower_track, 1100, lower_track), fill=(0, 0, 0), width=10)\n",
    "\t\tops = [\"op1\", \"op2\", \"op3\"]\n",
    "\t\tpos = [700, 900, 1100]\n",
    "\t\tfor p, op in zip(pos, ops):\n",
    "\t\t\tdraw.line((p, lower_track, p+500, upper_track), fill=(0, 0, 0), width=10)\n",
    "\t\t\tdraw.text((p+150, lower_track-250), op, font=fnt, fill=(0, 0, 0))\n",
    "\t\tdraw.line((1200, upper_track, width, upper_track), fill=(0, 0, 0), width=10)\n",
    "\n",
    "\t\tdraw.text((40, 40), \"Timer: 000\", fill=(255, 255, 255), font=fnt)\n",
    "\t\timages.append(img)\n",
    "\t\n",
    "\timages[0].save(\"train.gif\", format=\"GIF\", append_images=images[1:], save_all=True)"
   ]
  },
  {
   "cell_type": "code",
   "execution_count": 152,
   "metadata": {},
   "outputs": [],
   "source": [
    "trains = [all_trains[i] for i in hof[0]]\n",
    "animate_trains(trains)"
   ]
  }
 ],
 "metadata": {
  "kernelspec": {
   "display_name": "Python 3",
   "language": "python",
   "name": "python3"
  },
  "language_info": {
   "codemirror_mode": {
    "name": "ipython",
    "version": 3
   },
   "file_extension": ".py",
   "mimetype": "text/x-python",
   "name": "python",
   "nbconvert_exporter": "python",
   "pygments_lexer": "ipython3",
   "version": "3.10.8"
  },
  "vscode": {
   "interpreter": {
    "hash": "bbfdeb62a5108ee44bd519a0a38d4a3d58a182ad3f28a9e9691d05a9f1d4998f"
   }
  }
 },
 "nbformat": 4,
 "nbformat_minor": 4
}
