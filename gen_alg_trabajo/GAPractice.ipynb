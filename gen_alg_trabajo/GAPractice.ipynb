{
 "cells": [
  {
   "cell_type": "markdown",
   "metadata": {},
   "source": [
    "# Práctica sobre algoritmos genéticos\n",
    "\n",
    "<img src=\"imgs/tren.jpg\">\n",
    "\n",
    "\n",
    "Un área ferroviaria de carga/descarga con una única vía de entrada y otra salida se compone de tres muelles de carga/descarga: Op1, Op2 y Op3, correspondientes a contenedores, carbón y gas. Por tanto, cada tren que llega se dirige a un muelle en función de su carga. Un tren tarda en cargar o descargar un tiempo proporcional al número de vagones que arrastra. Cada día llegan secuencialmente n trenes. Si los trenes son de cargas distintas, pueden entrar en paralelo a los muelles. Cuando dos trenes con el mismo tipo de carga se encuentran seguidos, el segundo debe esperar por el primero, así como todos los demás que se encuentren por detrás.\n",
    "\n",
    "\n",
    "Se nos plantea resolver, mediante un algoritmo genético, el problema de la ordenación en la entrada de los trenes para minimizar el tiempo de paso del conjunto de trenes.\n",
    "\n",
    "\n",
    "<img src=\"imgs/docks.jpg\" width=\"70%\">"
   ]
  },
  {
   "cell_type": "code",
   "execution_count": 1,
   "metadata": {},
   "outputs": [],
   "source": [
    "import random\n",
    "import numpy\n",
    "from deap import base, creator, tools, algorithms"
   ]
  },
  {
   "cell_type": "markdown",
   "metadata": {},
   "source": [
    "## Trenes\n",
    "\n",
    "En el siguiente código, <code>random_trains_generation</code> genera los trenes que llegarán en un día. Cada ordenación diferente de este conjunto corresponderá con un **individuo** en nuestro eaquema de algoritmo genético."
   ]
  },
  {
   "cell_type": "code",
   "execution_count": 2,
   "metadata": {},
   "outputs": [],
   "source": [
    "import random\n",
    "# from deap import base, creator, tools\n",
    "\n",
    "class Train:\n",
    "    def __init__(self, wagons, op, licence_plate):\n",
    "        self.wagons = wagons\n",
    "        self.op = op\n",
    "        self.licence_plate = licence_plate\n",
    "\n",
    "    def __str__(self):\n",
    "        return \"Número de vagones:\" + str(self.wagons) \\\n",
    "        + \"\\n\" + \"Muelle de operaciones:\" + str(self.op) \\\n",
    "        + \"\\n\" + \"Matrícula:\" + str(self.licence_plate)\n",
    "    \n",
    "    def __repr__(self):\n",
    "        return f\"Train({self.wagons}, '{self.op}', {self.licence_plate})\"\n",
    "\n",
    "def random_trains_generation(n):\n",
    "\n",
    "    train_list = []\n",
    "    \n",
    "    for i in range(n):\n",
    "        wagons = random.randint(10, 30)  # Cada tren puede arrastrar entre 10 y 30 vagones\n",
    "        op = random.choice([\"op1\", \"op2\", \"op3\"])  # A cada tren se le asigna un tipo de carga\n",
    "        train_list.append(Train(wagons, op, i))\n",
    "\n",
    "    return train_list\n"
   ]
  },
  {
   "cell_type": "code",
   "execution_count": 3,
   "metadata": {},
   "outputs": [
    {
     "name": "stdout",
     "output_type": "stream",
     "text": [
      "Número de vagones:29\n",
      "Muelle de operaciones:op1\n",
      "Matrícula:7\n"
     ]
    },
    {
     "data": {
      "text/plain": [
       "Train(29, 'op1', 7)"
      ]
     },
     "execution_count": 3,
     "metadata": {},
     "output_type": "execute_result"
    }
   ],
   "source": [
    "trains = random_trains_generation(25)\n",
    "\n",
    "print(trains[7])\n",
    "trains[7]"
   ]
  },
  {
   "attachments": {},
   "cell_type": "markdown",
   "metadata": {},
   "source": [
    "# Solución"
   ]
  },
  {
   "cell_type": "code",
   "execution_count": 4,
   "metadata": {},
   "outputs": [],
   "source": [
    "from collections import defaultdict\n",
    "\n",
    "def trains_cost(indices, trains):\n",
    "    loaders = defaultdict(lambda: 0)\n",
    "    time = 0\n",
    "    for i in indices:\n",
    "        train = trains[i]\n",
    "        time = max(time, loaders[train.op])\n",
    "        loaders[train.op] = time + train.wagons\n",
    "    return max(*loaders.values()),\n"
   ]
  },
  {
   "cell_type": "code",
   "execution_count": 5,
   "metadata": {},
   "outputs": [],
   "source": [
    "def lower_bound(trains):\n",
    "    loaders = defaultdict(lambda: 0)\n",
    "    for train in trains:\n",
    "        loaders[train.op] += train.wagons\n",
    "    return max(*loaders.values())"
   ]
  },
  {
   "attachments": {},
   "cell_type": "markdown",
   "metadata": {},
   "source": [
    "# Usando DEAP"
   ]
  },
  {
   "cell_type": "code",
   "execution_count": 6,
   "metadata": {},
   "outputs": [],
   "source": [
    "creator.create(\"FitnessMin\", base.Fitness, weights=(-1.0,))\n",
    "creator.create(\"Individual\", list, fitness=creator.FitnessMin)"
   ]
  },
  {
   "cell_type": "code",
   "execution_count": 7,
   "metadata": {},
   "outputs": [],
   "source": [
    "def shuffle_trains(size):\n",
    "    ind = creator.Individual(range(size))\n",
    "    random.shuffle(ind)\n",
    "    return ind"
   ]
  },
  {
   "cell_type": "code",
   "execution_count": 15,
   "metadata": {},
   "outputs": [],
   "source": [
    "TRAIN_LEN = 25\n",
    "all_trains = random_trains_generation(TRAIN_LEN)"
   ]
  },
  {
   "cell_type": "code",
   "execution_count": 29,
   "metadata": {},
   "outputs": [],
   "source": [
    "import numpy as np\n",
    "\n",
    "\n",
    "toolbox = base.Toolbox()\n",
    "toolbox.register(\"individual\", shuffle_trains, TRAIN_LEN)\n",
    "toolbox.register(\"population\", tools.initRepeat, list, toolbox.individual)\n",
    "\n",
    "toolbox.register(\"evaluate\", trains_cost, trains=all_trains)\n",
    "toolbox.register(\"mate\", tools.cxOrdered)\n",
    "toolbox.register(\"mutate\", tools.mutShuffleIndexes, indpb=0.05)\n",
    "toolbox.register(\"select\", tools.selTournament, tournsize=3)\n",
    "\n",
    "pop = toolbox.population(n=3000)"
   ]
  },
  {
   "cell_type": "code",
   "execution_count": 23,
   "metadata": {},
   "outputs": [
    {
     "data": {
      "text/plain": [
       "217"
      ]
     },
     "execution_count": 23,
     "metadata": {},
     "output_type": "execute_result"
    }
   ],
   "source": [
    "lb = lower_bound(all_trains)\n",
    "lb"
   ]
  },
  {
   "cell_type": "code",
   "execution_count": 30,
   "metadata": {},
   "outputs": [
    {
     "name": "stdout",
     "output_type": "stream",
     "text": [
      "gen\tnevals\tavg    \tmin\tmax\tinnefic\twasted_time\n",
      "0  \t3000  \t286.645\t221\t397\t1.01843\t4          \n",
      "1  \t1830  \t267.786\t217\t385\t1      \t0          \n",
      "2  \t1763  \t256.637\t217\t344\t1      \t0          \n",
      "3  \t1771  \t249.982\t217\t352\t1      \t0          \n",
      "4  \t1835  \t245.707\t217\t343\t1      \t0          \n",
      "5  \t1838  \t242.489\t217\t351\t1      \t0          \n",
      "6  \t1788  \t239.589\t217\t316\t1      \t0          \n",
      "7  \t1801  \t237.817\t217\t317\t1      \t0          \n",
      "8  \t1771  \t235.953\t217\t325\t1      \t0          \n",
      "9  \t1811  \t234.592\t217\t347\t1      \t0          \n",
      "10 \t1825  \t234.395\t217\t325\t1      \t0          \n",
      "11 \t1733  \t232.371\t217\t341\t1      \t0          \n",
      "12 \t1814  \t232.196\t217\t320\t1      \t0          \n",
      "13 \t1769  \t231.469\t217\t311\t1      \t0          \n",
      "14 \t1830  \t231.833\t217\t308\t1      \t0          \n",
      "15 \t1780  \t231.611\t217\t326\t1      \t0          \n",
      "16 \t1812  \t230.993\t217\t313\t1      \t0          \n",
      "17 \t1784  \t231.29 \t217\t317\t1      \t0          \n",
      "18 \t1806  \t231.322\t217\t331\t1      \t0          \n",
      "19 \t1759  \t230.543\t217\t330\t1      \t0          \n",
      "20 \t1779  \t230.312\t217\t319\t1      \t0          \n",
      "21 \t1807  \t230.72 \t217\t320\t1      \t0          \n",
      "22 \t1837  \t230.874\t217\t320\t1      \t0          \n",
      "23 \t1833  \t231.795\t217\t314\t1      \t0          \n",
      "24 \t1804  \t231.046\t217\t313\t1      \t0          \n",
      "25 \t1784  \t230.703\t217\t313\t1      \t0          \n",
      "26 \t1810  \t231.091\t217\t337\t1      \t0          \n",
      "27 \t1718  \t230.287\t217\t319\t1      \t0          \n",
      "28 \t1808  \t231.376\t217\t343\t1      \t0          \n",
      "29 \t1719  \t229.975\t217\t343\t1      \t0          \n",
      "30 \t1817  \t230.667\t217\t321\t1      \t0          \n",
      "31 \t1838  \t231.283\t217\t315\t1      \t0          \n",
      "32 \t1810  \t231.056\t217\t335\t1      \t0          \n",
      "33 \t1805  \t230.727\t217\t318\t1      \t0          \n",
      "34 \t1782  \t230.078\t217\t316\t1      \t0          \n",
      "35 \t1810  \t230.266\t217\t331\t1      \t0          \n",
      "36 \t1807  \t230.36 \t217\t339\t1      \t0          \n",
      "37 \t1775  \t230.777\t217\t310\t1      \t0          \n",
      "38 \t1745  \t230.315\t217\t320\t1      \t0          \n",
      "39 \t1777  \t230.485\t217\t323\t1      \t0          \n",
      "40 \t1803  \t231.154\t217\t321\t1      \t0          \n",
      "41 \t1818  \t231.43 \t217\t332\t1      \t0          \n",
      "42 \t1747  \t230.794\t217\t318\t1      \t0          \n",
      "43 \t1799  \t230.77 \t217\t321\t1      \t0          \n",
      "44 \t1839  \t231.129\t217\t327\t1      \t0          \n",
      "45 \t1711  \t230.484\t217\t311\t1      \t0          \n",
      "46 \t1795  \t230.631\t217\t321\t1      \t0          \n",
      "47 \t1822  \t231.145\t217\t305\t1      \t0          \n",
      "48 \t1823  \t231.458\t217\t328\t1      \t0          \n",
      "49 \t1744  \t230.366\t217\t314\t1      \t0          \n",
      "50 \t1772  \t230.698\t217\t326\t1      \t0          \n",
      "51 \t1794  \t230.663\t217\t322\t1      \t0          \n",
      "52 \t1856  \t230.956\t217\t347\t1      \t0          \n",
      "53 \t1820  \t231.173\t217\t315\t1      \t0          \n",
      "54 \t1804  \t231.035\t217\t322\t1      \t0          \n",
      "55 \t1767  \t230.633\t217\t317\t1      \t0          \n",
      "56 \t1764  \t230.364\t217\t345\t1      \t0          \n",
      "57 \t1832  \t231.075\t217\t335\t1      \t0          \n",
      "58 \t1680  \t230.218\t217\t310\t1      \t0          \n",
      "59 \t1786  \t230.613\t217\t312\t1      \t0          \n",
      "60 \t1808  \t230.591\t217\t310\t1      \t0          \n",
      "61 \t1809  \t230.853\t217\t331\t1      \t0          \n",
      "62 \t1818  \t231.065\t217\t347\t1      \t0          \n",
      "63 \t1795  \t231.145\t217\t315\t1      \t0          \n",
      "64 \t1802  \t231.03 \t217\t312\t1      \t0          \n",
      "65 \t1814  \t230.876\t217\t317\t1      \t0          \n",
      "66 \t1848  \t231.141\t217\t310\t1      \t0          \n",
      "67 \t1767  \t230.681\t217\t308\t1      \t0          \n",
      "68 \t1818  \t230.517\t217\t318\t1      \t0          \n",
      "69 \t1745  \t230.486\t217\t306\t1      \t0          \n",
      "70 \t1834  \t230.964\t217\t317\t1      \t0          \n",
      "71 \t1718  \t230.02 \t217\t306\t1      \t0          \n",
      "72 \t1791  \t230.789\t217\t325\t1      \t0          \n",
      "73 \t1793  \t230.758\t217\t330\t1      \t0          \n",
      "74 \t1754  \t230.784\t217\t321\t1      \t0          \n",
      "75 \t1782  \t231.108\t217\t395\t1      \t0          \n",
      "76 \t1832  \t231.124\t217\t313\t1      \t0          \n",
      "77 \t1795  \t231.215\t217\t321\t1      \t0          \n",
      "78 \t1785  \t231.34 \t217\t311\t1      \t0          \n",
      "79 \t1729  \t231.111\t217\t328\t1      \t0          \n",
      "80 \t1824  \t231.583\t217\t322\t1      \t0          \n",
      "81 \t1802  \t230.975\t217\t323\t1      \t0          \n",
      "82 \t1797  \t231.454\t217\t313\t1      \t0          \n",
      "83 \t1790  \t230.765\t217\t325\t1      \t0          \n",
      "84 \t1762  \t230.784\t217\t320\t1      \t0          \n",
      "85 \t1827  \t231.055\t217\t320\t1      \t0          \n",
      "86 \t1813  \t231.222\t217\t329\t1      \t0          \n",
      "87 \t1755  \t230.607\t217\t307\t1      \t0          \n",
      "88 \t1826  \t231.524\t217\t313\t1      \t0          \n",
      "89 \t1886  \t232.051\t217\t324\t1      \t0          \n",
      "90 \t1733  \t230.801\t217\t326\t1      \t0          \n",
      "91 \t1806  \t231.004\t217\t323\t1      \t0          \n",
      "92 \t1840  \t231.143\t217\t304\t1      \t0          \n",
      "93 \t1822  \t231.466\t217\t333\t1      \t0          \n",
      "94 \t1809  \t231.246\t217\t327\t1      \t0          \n",
      "95 \t1873  \t232.051\t217\t307\t1      \t0          \n",
      "96 \t1816  \t231.721\t217\t312\t1      \t0          \n",
      "97 \t1809  \t231.352\t217\t309\t1      \t0          \n",
      "98 \t1807  \t231.401\t217\t315\t1      \t0          \n",
      "99 \t1776  \t230.957\t217\t322\t1      \t0          \n",
      "100\t1768  \t231.528\t217\t327\t1      \t0          \n"
     ]
    }
   ],
   "source": [
    "hof = tools.HallOfFame(4)\n",
    "\n",
    "stats = tools.Statistics(lambda indiv: indiv.fitness.values[0])\n",
    "stats.register(\"avg\", np.mean)\n",
    "stats.register(\"min\", np.min)\n",
    "stats.register(\"max\", np.max)\n",
    "stats.register(\"innefic\", lambda f: np.min(f) / lb)\n",
    "stats.register(\"wasted_time\", lambda f: np.min(f) - lb)\n",
    "\n",
    "pop, logbook = algorithms.eaSimple(pop, toolbox, cxpb=0.5, mutpb=0.2, ngen=100, stats=stats, halloffame=hof, verbose=True)\n"
   ]
  },
  {
   "cell_type": "code",
   "execution_count": 14,
   "metadata": {},
   "outputs": [
    {
     "name": "stdout",
     "output_type": "stream",
     "text": [
      "[5, 2, 3, 12, 6, 14, 11, 17, 13, 19, 15, 23, 4, 7, 20, 18, 22, 10, 16, 0, 1, 21, 8, 24, 9] (229.0,)\n",
      "[23, 20, 2, 5, 18, 22, 6, 11, 13, 9, 3, 10, 15, 19, 7, 0, 17, 4, 14, 1, 8, 16, 21, 12, 24] (229.0,)\n",
      "[5, 2, 3, 12, 6, 21, 11, 17, 13, 19, 15, 23, 20, 7, 4, 18, 0, 10, 16, 22, 1, 14, 8, 24, 9] (229.0,)\n",
      "[5, 2, 3, 12, 6, 14, 11, 17, 13, 19, 15, 23, 20, 7, 4, 18, 0, 10, 16, 22, 1, 21, 8, 24, 9] (229.0,)\n"
     ]
    }
   ],
   "source": [
    "for i in range(4):\n",
    "\tprint(hof[i], hof[i].fitness.values)"
   ]
  }
 ],
 "metadata": {
  "kernelspec": {
   "display_name": "Python 3",
   "language": "python",
   "name": "python3"
  },
  "language_info": {
   "codemirror_mode": {
    "name": "ipython",
    "version": 3
   },
   "file_extension": ".py",
   "mimetype": "text/x-python",
   "name": "python",
   "nbconvert_exporter": "python",
   "pygments_lexer": "ipython3",
   "version": "3.10.8"
  },
  "vscode": {
   "interpreter": {
    "hash": "bbfdeb62a5108ee44bd519a0a38d4a3d58a182ad3f28a9e9691d05a9f1d4998f"
   }
  }
 },
 "nbformat": 4,
 "nbformat_minor": 4
}
