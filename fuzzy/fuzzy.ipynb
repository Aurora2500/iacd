{
 "cells": [
  {
   "cell_type": "code",
   "execution_count": null,
   "metadata": {},
   "outputs": [],
   "source": [
    "import numpy as np\n",
    "import skfuzzy as fuzz\n",
    "from skfuzzy import control as ctrl\n",
    "import matplotlib\n",
    "import matplotlib.pyplot as plt\n",
    "\n",
    "# functions\n",
    "demand = ctrl.Antecedent(np.arange(0, 101, 1), 'demand')\n",
    "inventory = ctrl.Antecedent(np.arange(0, 101, 1), 'demand')\n",
    "orders = ctrl.Consequent(np.arange(0, 101, 1), 'orders')\n",
    "\n",
    "# Auto-membership function population is possible with .automf(3, 5, or 7)\n",
    "demand.automf(3, names=[\"low\", \"medium\", \"high\"])\n",
    "inventory.automf(3, names=[\"low\", \"medium\", \"high\"])\n",
    "\n",
    "orders['decrease'] = fuzz.trimf(orders.universe, [0, 0, 50])\n",
    "orders['maintain'] = fuzz.trimf(orders.universe, [0, 50, 100])\n",
    "orders['increase'] = fuzz.trimf(orders.universe, [50, 100, 100])\n",
    "\n",
    "rules = [\n",
    "    ctrl.Rule(demand['high'] & inventory['medium'], orders['increase']),\n",
    "    ctrl.Rule(demand['low'] & inventory['high'], orders['decrease']),\n",
    "    ctrl.Rule(demand['medium'] & inventory['medium'], orders['maintain']),\n",
    "    ctrl.Rule(inventory['low'], orders['increase']),\n",
    "    ctrl.Rule(inventory['high'], orders['decrease']),\n",
    "]\n",
    "\n",
    "logistics_ctrl = ctrl.ControlSystem(rules)\n",
    "logistics = ctrl.ControlSystemSimulation(logistics_ctrl)"
   ]
  },
  {
   "cell_type": "code",
   "execution_count": null,
   "metadata": {},
   "outputs": [],
   "source": [
    "logistics.inputs({'demand': 50, 'inventory': 50})\n",
    "\n",
    "logistics.compute()\n",
    "print(logistics.output['orders'])"
   ]
  }
 ],
 "metadata": {
  "kernelspec": {
   "display_name": "Python 3",
   "language": "python",
   "name": "python3"
  },
  "language_info": {
   "codemirror_mode": {
    "name": "ipython",
    "version": 3
   },
   "file_extension": ".py",
   "mimetype": "text/x-python",
   "name": "python",
   "nbconvert_exporter": "python",
   "pygments_lexer": "ipython3",
   "version": "3.10.8"
  },
  "vscode": {
   "interpreter": {
    "hash": "bbfdeb62a5108ee44bd519a0a38d4a3d58a182ad3f28a9e9691d05a9f1d4998f"
   }
  }
 },
 "nbformat": 4,
 "nbformat_minor": 2
}
