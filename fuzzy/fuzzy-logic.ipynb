{
 "cells": [
  {
   "cell_type": "markdown",
   "metadata": {},
   "source": [
    "# Lógica Difusa\n",
    "---\n",
    "\n",
    "La Lógica Difusa proporciona un mecanismo de inferencia que permite simular los procedimientos de razonamiento humano en sistemas basados en el conocimiento. La teoría de la lógica difusa proporciona un marco matemático que permite modelar la incertidumbre de los procesos cognitivos humanos de forma que pueda ser tratable por un computador.\n"
   ]
  },
  {
   "attachments": {},
   "cell_type": "markdown",
   "metadata": {},
   "source": [
    "## Conjunto difuso\n",
    "\n",
    "En la teoría clásica de conjuntos *crisp* <span style=\"color:gray\">(es decir, los conjuntos de toda la vida, donde un elemento pertenece o no pertenece al conjunto)</span> un conjunto C se define sobre X mediante la función característica $f_C$.\n",
    "\n",
    "\n",
    "<img src=\"imgs/f1.png\" width=\"20%\">\n",
    "\n",
    "Este conjunto mapea, a su vez, el universo $X$ en un conjunto de dos elementos, $0$ o $1$, donde la función $f_C(x)$ es $1$ si el elemento $x$ pertenece al conjunto $C$ y $0$ si el elemento $x$ no pertenece al conjunto $C$. Si generalizamos esta función para que los valores asignados a los elementos del conjunto caigan en un rango particular y así indicar el grado de pertenencia de los elementos a ese conjunto, tendremos una **función de pertenencia** de un determinado conjunto difuso. La\n",
    "función de pertenencia $\\mu_A$ por la que se define un conjunto difuso A, sería:\n",
    "\n",
    "$$ \\mu_A = X \\rightarrow [0, 1]$$\n",
    "\n",
    "Donde $\\mu_A(x) = 1$ si $x$ está totalmente en $A$, $\\mu_A(x) = 0$ si $x$ no está en $A$ y $0 < \\mu_A(x) < 1$ si $x$ está parcialmente en $A$. Este valor entre $0$ y $1$ representa el grado de pertenencia (también llamado valor de\n",
    "pertenencia de un elemento $x$ a un conjunto $A$.\n",
    "\n",
    "<img src=\"imgs/conj_difuso.jpg\" width=\"40%\">\n",
    "<br>\n",
    "<img src=\"imgs/conjuntos.jpg\" width=\"50%\">\n",
    "\n",
    "\n",
    "## Operaciones con conjuntos difusos\n",
    "\n",
    "Las tres operaciones básicas que se definen sobre conjuntos crisp (complemento, unión e intersección), pueden generalizarse de varias formas en conjuntos difusos. No obstante, existe una generalización particular que tiene especial importancia. Cuando se restringe el rango de pertenencia al conjunto $[0, 1]$, estas operaciones \"estándar\" sobre conjuntos difusos se comportan de igual modo que las operaciones sobre conjuntos crisp.\n",
    "\n",
    "\n",
    "### Complemento\n",
    "\n",
    "Su forma más básica es: $1-x$\n",
    "\n",
    "### Unión\n",
    "\n",
    "Tenemos tres formas principales de definir la unión:\n",
    "\n",
    "- Máximo: $max(a, b)$\n",
    "- Producto: $(a + b) - (a \\times b)$\n",
    "- Suma limitada (o de Lukasiewick): $min(a + b, 1)$\n",
    "\n",
    "### Intersección\n",
    "\n",
    "También tenemos varias formas de definirla:\n",
    "\n",
    "- Mínimo: $min(a, b)$\n",
    "- Producto algebraico: $a \\times b$\n",
    "- Diferencia limitada (o de Lukasiewick): $max(0, a + b - 1)$\n",
    "\n",
    "<img src=\"imgs/operaciones.png\" width=\"30%\">\n",
    "\n",
    "\n",
    "\n",
    "## Reglas difusas\n",
    "\n",
    "Mediante el uso de conjuntos difusos es posible dotar de significado matemático a proposiciones como \"este coche es pequeño\", \"Pedro es alto\" o \"el crecimiento es lento\". Las reglas difusas se utilizan para representar y razonar\n",
    "con conocimiento expresado en forma de primitivas enunciadas en lenguaje natural. La inferencia difusa puede definirse como el proceso de obtener un valor de salida para un valor de entrada empleando la teoría de conjuntos difusos.\n",
    "\n",
    "### Inferencia de Mamdani\n",
    "\n",
    "Es posiblemente el método más ampliamente utilizado (propuesto por Ebrahim Mamdani). El proceso se realiza en cuatro pasos:\n",
    "\n",
    "1. Fuzificación de las variables de entrada.\n",
    "2. Evaluación de las reglas.\n",
    "3. Agregación de las salidas de las reglas.\n",
    "4. Defuzificación.\n",
    "\n",
    "<img src=\"imgs/proceso.png\">"
   ]
  },
  {
   "cell_type": "markdown",
   "metadata": {},
   "source": [
    "-----------------------------------"
   ]
  },
  {
   "cell_type": "markdown",
   "metadata": {
    "collapsed": true
   },
   "source": [
    "# Tip Example\n",
    "\n",
    "Vamos a crear un sistema de **control difuso** que modele cómo calcular la propina en un restaurante. Se considerará el servicio y la calidad de los alimentos, valorados entre 0 y 10. Y se dejará una propina de entre 0 y 25%.\n",
    "\n",
    "La formulación de este problema sería:\n",
    "\n",
    "* **Antecedentes (Entradas)**\n",
    "    + Servicio: Universo (es decir, rango de valores nítidos): ¿Qué tan bueno fue el servicio del personal, en una escala de 0 a 10?\n",
    "    Conjunto difuso (es decir, rango de valores difusos): pobre, aceptable, excelente\n",
    "\n",
    "    + Calidad alimentaria: Universo: ¿Qué tan buena estaba la comida, en una escala de 0 a 10?\n",
    "    Conjunto difuso: mala, buena, exquisita\n",
    "\n",
    "\n",
    "* **Consecuentes (Salidas)**\n",
    "    + Propina: Universo: ¿Cuánta propina debemos dejar, en una escala de 0% a 25%?\n",
    "    Fuzzy set: baja, media, alta\n",
    "\n",
    "\n",
    "* **Reglas**\n",
    "    + Si el servicio era excelente o la calidad de la comida era buena, entonces la propina será alta.\n",
    "    + Si el servicio fue aceptable, la propina será media.\n",
    "    + Si el servicio fue pobre y la calidad de la comida mala, entonces la propina será baja.\n",
    "\n",
    "\n",
    "* **Uso**\n",
    "    + Si le pedimos a este controlador que calcule la propina, siendo el servicio un 9.8 y la calidad un 6.5, éste nos recomendaría una propina de un 20,2%."
   ]
  },
  {
   "cell_type": "code",
   "execution_count": null,
   "metadata": {},
   "outputs": [],
   "source": [
    "import numpy as np\n",
    "import skfuzzy as fuzz\n",
    "from skfuzzy import control as ctrl\n",
    "import matplotlib\n",
    "import matplotlib.pyplot as plt\n",
    "%matplotlib inline  \n",
    "\n",
    "# New Antecedent/Consequent objects hold universe variables and membership\n",
    "# functions\n",
    "quality = ctrl.Antecedent(np.arange(0, 11, 1), 'quality')\n",
    "service = ctrl.Antecedent(np.arange(0, 11, 1), 'service')\n",
    "tip = ctrl.Consequent(np.arange(0, 26, 1), 'tip')\n",
    "\n",
    "# Auto-membership function population is possible with .automf(3, 5, or 7)\n",
    "quality.automf(3)\n",
    "service.automf(3)\n",
    "\n",
    "tip['low'] = fuzz.trimf(tip.universe, [0, 0, 13])\n",
    "tip['medium'] = fuzz.trimf(tip.universe, [0, 13, 25])\n",
    "tip['high'] = fuzz.trimf(tip.universe, [13, 25, 25])"
   ]
  },
  {
   "cell_type": "markdown",
   "metadata": {},
   "source": [
    "Para ver gráficamente los conjuntos de membresía"
   ]
  },
  {
   "cell_type": "code",
   "execution_count": null,
   "metadata": {},
   "outputs": [],
   "source": [
    "# You can see how these look with .view()\n",
    "quality['average'].view()"
   ]
  },
  {
   "cell_type": "code",
   "execution_count": null,
   "metadata": {},
   "outputs": [],
   "source": [
    "service.view()"
   ]
  },
  {
   "cell_type": "code",
   "execution_count": null,
   "metadata": {},
   "outputs": [],
   "source": [
    "tip.view()"
   ]
  },
  {
   "cell_type": "markdown",
   "metadata": {},
   "source": [
    "## Reglas borrosas\n",
    "Ahora, para hacer que estos triángulos sean útiles, definimos la relación difusa entre las variables de entrada y salida. Para los propósitos de nuestro ejemplo, considere tres reglas simples:\n",
    "\n",
    "* Si la comida es mala O el servicio es pobre, entonces la propina será baja\n",
    "* Si el servicio es regular, entonces la propina será mediana\n",
    "* Si la comida es buena O el servicio es bueno, entonces la propina será alta.\n",
    "\n",
    "La mayoría de las personas estarían de acuerdo con estas reglas, aunque las reglas sean confusas. El reto es mapear reglas difusas en un cálculo preciso de la propina. Esta es la principal ventaja de la lógica difusa."
   ]
  },
  {
   "cell_type": "code",
   "execution_count": null,
   "metadata": {},
   "outputs": [],
   "source": [
    "rule1 = ctrl.Rule(quality['poor'] | service['poor'], tip['low'])\n",
    "rule2 = ctrl.Rule(service['average'], tip['medium'])\n",
    "rule3 = ctrl.Rule(service['good'] & quality['good'], tip['high'])"
   ]
  },
  {
   "cell_type": "code",
   "execution_count": null,
   "metadata": {},
   "outputs": [],
   "source": [
    "tipping_ctrl = ctrl.ControlSystem([rule1, rule2, rule3])"
   ]
  },
  {
   "cell_type": "code",
   "execution_count": null,
   "metadata": {},
   "outputs": [],
   "source": [
    "tipping = ctrl.ControlSystemSimulation(tipping_ctrl)"
   ]
  },
  {
   "cell_type": "code",
   "execution_count": null,
   "metadata": {},
   "outputs": [],
   "source": [
    "# Pass inputs to the ControlSystem using Antecedent labels with Pythonic API\n",
    "# Note: if you like passing many inputs all at once, use .inputs(dict_of_data)\n",
    "tipping.input['quality'] = 3\n",
    "tipping.input['service'] = 7\n",
    "\n",
    "# Crunch the numbers\n",
    "tipping.compute()"
   ]
  },
  {
   "cell_type": "code",
   "execution_count": null,
   "metadata": {},
   "outputs": [],
   "source": [
    "print(\"Propina:\", round(tipping.output['tip'],1),\"%\")\n",
    "tip.view(sim=tipping)"
   ]
  },
  {
   "cell_type": "markdown",
   "metadata": {},
   "source": [
    "# Frenado del coche\n",
    "\n",
    "En este ejemplo construiremos un sistema de control para el frenado de un coche. Como parámetros tendremos la velocidad (km/h) de nuestro coche y la distancia (m) a la que se sitúa el coche de delante.\n"
   ]
  },
  {
   "cell_type": "code",
   "execution_count": null,
   "metadata": {},
   "outputs": [],
   "source": [
    "import numpy as np\n",
    "import skfuzzy as fuzz\n",
    "from skfuzzy import control as ctrl\n",
    "import matplotlib\n",
    "import matplotlib.pyplot as plt\n",
    "%matplotlib inline\n",
    "\n",
    "speed = ctrl.Antecedent(np.arange(0, 101, 1), 'speed')\n",
    "distance = ctrl.Antecedent(np.arange(0, 151, 1), 'distance')\n",
    "brake = ctrl.Consequent(np.arange(0, 101, 1), 'brake', defuzzify_method=\"bisector\")\n",
    "\n",
    "# Auto-membership function population is possible with .automf(3, 5, or 7)\n",
    "speed.automf(names = ['slow','medium','fast'])\n",
    "\n",
    "distance['close'] = fuzz.trimf(distance.universe, [0, 0, 75])\n",
    "distance['medium'] = fuzz.trimf(distance.universe, [0, 75, 150])\n",
    "distance['far'] = fuzz.trimf(distance.universe, [75, 150, 150])\n",
    "\n",
    "# Custom membership functions can be built interactively with a familiar,\n",
    "# Pythonic API\n",
    "brake['low'] = fuzz.trimf(brake.universe, [0, 0, 30])\n",
    "brake['medium'] = fuzz.trimf(brake.universe, [0, 30, 60])\n",
    "brake['high'] = fuzz.trapmf(brake.universe, [30, 60, 100, 100])\n",
    "\n",
    "speed.view()\n",
    "distance.view()\n",
    "brake.view()"
   ]
  },
  {
   "cell_type": "code",
   "execution_count": null,
   "metadata": {},
   "outputs": [],
   "source": [
    "rule1 = ctrl.Rule(distance['medium'] & speed['fast'], brake['high'])\n",
    "rule2 = ctrl.Rule(distance['close'] & speed['medium'], brake['high'])\n",
    "rule3 = ctrl.Rule(distance['medium'] & speed['medium'], brake['medium'])\n",
    "rule4 = ctrl.Rule(distance['far'] & speed['slow'], brake['low'])\n",
    "\n",
    "\n",
    "braking_ctrl = ctrl.ControlSystem([rule1, rule2, rule3, rule4])\n",
    "breaking = ctrl.ControlSystemSimulation(braking_ctrl)\n",
    "\n",
    "# Distancia\n",
    "b = []\n",
    "breaking.input['speed'] = 50\n",
    "\n",
    "for d in range(0, 150):\n",
    "    breaking.input['distance'] = d\n",
    "    breaking.compute()\n",
    "    b.append(int(breaking.output['brake']))\n",
    "    \n",
    "    \n",
    "plt.xlabel(\"Distance\")\n",
    "plt.ylabel(\"Breaking\")\n",
    "plt.plot(b)\n"
   ]
  },
  {
   "cell_type": "markdown",
   "metadata": {},
   "source": [
    "Vemos que a una velocidad fija de 50km/h la presión del frenado será mayor cuanto más cerca esté el coche de delante."
   ]
  },
  {
   "cell_type": "code",
   "execution_count": null,
   "metadata": {},
   "outputs": [],
   "source": [
    "# Velocidad\n",
    "b = []\n",
    "breaking.input['distance'] = 90\n",
    "\n",
    "for s in range(0, 100):\n",
    "    breaking.input['speed'] = s\n",
    "    breaking.compute()\n",
    "    b.append(int(breaking.output['brake']))\n",
    "    \n",
    "\n",
    "plt.xlabel(\"Speed\")\n",
    "plt.ylabel(\"Breaking\")\n",
    "plt.plot(b)\n"
   ]
  },
  {
   "cell_type": "markdown",
   "metadata": {},
   "source": [
    "Para una distancia fija de 90m la presión de frenado será mayor cuanto mayor sea la velocidad."
   ]
  },
  {
   "cell_type": "code",
   "execution_count": null,
   "metadata": {},
   "outputs": [],
   "source": [
    "breaking.input['speed'] = 70\n",
    "breaking.input['distance'] = 90\n",
    "brake.view(sim=breaking)\n",
    " \n",
    "breaking.input['speed'] = 80\n",
    "breaking.input['distance'] = 90\n",
    "brake.view(sim=breaking)\n",
    "\n",
    "breaking.input['speed'] = 90\n",
    "breaking.input['distance'] = 90\n",
    "brake.view(sim=breaking)"
   ]
  },
  {
   "cell_type": "markdown",
   "metadata": {},
   "source": [
    "## Parámetros de defuzzificación"
   ]
  },
  {
   "cell_type": "code",
   "execution_count": null,
   "metadata": {},
   "outputs": [],
   "source": [
    "import numpy as np\n",
    "import matplotlib.pyplot as plt\n",
    "import skfuzzy as fuzz\n",
    "\n",
    "# Generate trapezoidal membership function on range [0, 1]\n",
    "x = np.arange(0, 5.05, 0.1)\n",
    "mfx = fuzz.trapmf(x, [2, 2.5, 3, 4.5])\n",
    "\n",
    "# Defuzzify this membership function five ways\n",
    "defuzz_centroid = fuzz.defuzz(x, mfx, 'centroid') # Same as skfuzzy.centroid\n",
    "defuzz_bisector = fuzz.defuzz(x, mfx, 'bisector')\n",
    "defuzz_mom = fuzz.defuzz(x, mfx, 'mom')\n",
    "defuzz_som = fuzz.defuzz(x, mfx, 'som')\n",
    "defuzz_lom = fuzz.defuzz(x, mfx, 'lom')\n",
    "\n",
    "# Collect info for vertical lines\n",
    "labels = ['centroid', 'bisector', 'mean of maximum', 'min of maximum', 'max of maximum']\n",
    "xvals = [defuzz_centroid, defuzz_bisector, defuzz_mom, defuzz_som, defuzz_lom]\n",
    "colors = ['r', 'b', 'g', 'c', 'm']\n",
    "ymax = [fuzz.interp_membership(x, mfx, i) for i in xvals]\n",
    "\n",
    "# Display and compare defuzzification results against membership function\n",
    "plt.figure(figsize=(8, 5))\n",
    "plt.plot(x, mfx, 'k')\n",
    "for xv, y, label, color in zip(xvals, ymax, labels, colors):\n",
    "    plt.vlines(xv, 0, y, label=label, color=color)\n",
    "    \n",
    "plt.ylabel('Fuzzy membership')\n",
    "plt.xlabel('Universe variable (arb)')\n",
    "plt.ylim(-0.1, 1.1)\n",
    "plt.legend(loc=2)\n",
    "plt.show()"
   ]
  },
  {
   "attachments": {},
   "cell_type": "markdown",
   "metadata": {},
   "source": [
    "## **Ejercicios**\n",
    "\n",
    "Realiza un sistema de control difuso para el control de inventario basado en la demanda del mercado y el inventario actual. El sistema intentará ajustar el nivel de inventario para minimizar el costo de mantener el inventario y prevenir las fluctuaciones de la demanda. Algunas reglas difusas que podría incluir son:\n",
    "\n",
    "- Si la demanda es alta y el inventario es moderado, entonces aumentar el pedido.\n",
    "- Si la demanda es baja y el inventario es alto, entonces reducir el pedido.\n",
    "- Si la demanda es moderada y el inventario es moderado, entonces mantener el mismo nivel de pedido.\n",
    "- Si la demanda es incierta y el inventario es bajo, entonces aumentar el pedido para prevenir una posible escasez.\n",
    "- Si la demanda es incierta y el inventario es alto, entonces reducir el pedido para prevenir un exceso de inventario.\n",
    "\n"
   ]
  },
  {
   "cell_type": "markdown",
   "metadata": {},
   "source": []
  }
 ],
 "metadata": {
  "kernelspec": {
   "display_name": "Python 3",
   "language": "python",
   "name": "python3"
  },
  "language_info": {
   "codemirror_mode": {
    "name": "ipython",
    "version": 3
   },
   "file_extension": ".py",
   "mimetype": "text/x-python",
   "name": "python",
   "nbconvert_exporter": "python",
   "pygments_lexer": "ipython3",
   "version": "3.10.8"
  },
  "vscode": {
   "interpreter": {
    "hash": "bbfdeb62a5108ee44bd519a0a38d4a3d58a182ad3f28a9e9691d05a9f1d4998f"
   }
  }
 },
 "nbformat": 4,
 "nbformat_minor": 2
}
