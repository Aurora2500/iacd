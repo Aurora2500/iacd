{
 "cells": [
  {
   "cell_type": "code",
   "execution_count": null,
   "metadata": {},
   "outputs": [],
   "source": [
    "import numpy as np\n",
    "import matplotlib.pyplot as plt\n",
    "import pomegranate as pg"
   ]
  },
  {
   "cell_type": "code",
   "execution_count": null,
   "metadata": {},
   "outputs": [],
   "source": [
    "def case(prev, name, p):\n",
    "  return [*prev, name, p], [*prev, f\"!{name}\", 1-p]\n",
    "\n",
    "\n",
    "robo = pg.DiscreteDistribution({'robo': 0.001, '!robo': 0.999})\n",
    "terremoto = pg.DiscreteDistribution({'terremoto': 0.002, '!terremoto': 0.998})\n",
    "\n",
    "alarma = pg.ConditionalProbabilityTable(\n",
    "  [\n",
    "    *case(['robo', 'terremoto'], 'alarma', 0.95),\n",
    "    *case(['robo', '!terremoto'], 'alarma', 0.94),\n",
    "    *case(['!robo', 'terremoto'], 'alarma', 0.29),\n",
    "    *case(['!robo', '!terremoto'], 'alarma', 0.001),\n",
    "  ],\n",
    "  [robo, terremoto])\n",
    "\n",
    "juan = pg.ConditionalProbabilityTable(\n",
    "  [\n",
    "    *case(['alarma'], 'juan', 0.90),\n",
    "    *case(['!alarma'], 'juan', 0.05),\n",
    "  ],\n",
    "  [alarma])\n",
    "\n",
    "maria = pg.ConditionalProbabilityTable(\n",
    "  [\n",
    "    *case(['alarma'], 'maria', 0.70),\n",
    "    *case(['!alarma'], 'maria', 0.01),\n",
    "  ],\n",
    "  [alarma])\n",
    "\n",
    "s1 = pg.Node(robo, name=\"robo\")\n",
    "s2 = pg.Node(terremoto, name=\"terremoto\")\n",
    "s3 = pg.Node(alarma, name=\"alarma\")\n",
    "s4 = pg.Node(juan, name=\"juan\")\n",
    "s5 = pg.Node(maria, name=\"maria\")\n",
    "\n",
    "model = pg.BayesianNetwork(\"Avisos\")\n",
    "model.add_states(s1, s2, s3, s4, s5)\n",
    "model.add_edge(s1, s3)\n",
    "model.add_edge(s2, s3)\n",
    "model.add_edge(s3, s4)\n",
    "model.add_edge(s3, s5)\n",
    "\n",
    "model.bake()"
   ]
  },
  {
   "attachments": {},
   "cell_type": "markdown",
   "metadata": {},
   "source": [
    "# Ejercicio 1\n",
    "\n",
    "* Que Juan llame a la policía si María ha llamado a la policía.\n",
    "* Que haya un terremoto si María ha llamado a la policía.\n",
    "* Que haya un terremoto y un robo simultáneamente.\n",
    "* Que haya un terremoto y un robo simultáneamente si Juan ha llamado a la policía."
   ]
  },
  {
   "cell_type": "code",
   "execution_count": null,
   "metadata": {},
   "outputs": [],
   "source": [
    "def predict(m, query):\n",
    "  bs = model.predict_proba(query)\n",
    "  return {s.name: b.parameters[0][s.name] for s, b in zip(model.states, bs) if type(b) is not str}"
   ]
  },
  {
   "cell_type": "code",
   "execution_count": null,
   "metadata": {},
   "outputs": [],
   "source": [
    "predict(model, {'maria':'maria'})"
   ]
  },
  {
   "cell_type": "code",
   "execution_count": null,
   "metadata": {},
   "outputs": [],
   "source": [
    "beliefs = model.predict_proba({'juan': 'juan'})\n",
    "b = {s.name: b.parameters[0][s.name] for s, b in zip(model.states, beliefs) if type(b) is not str}\n",
    "b['robo'] + b['terremoto']\n",
    "\n",
    "#p = {s.name: s.distribution.parameters[0][s.name] for s in model.states}\n",
    "model.probability([\n",
    "    ['robo', 'terremoto', None, 'juan', None],\n",
    "    ['robo', 'terremoto', 'alarma', 'juan', None],\n",
    "  ])\n"
   ]
  },
  {
   "cell_type": "code",
   "execution_count": null,
   "metadata": {},
   "outputs": [],
   "source": [
    "print(\"probabilidad: \",robo.probability('robo') * terremoto.probability('terremoto'))\n",
    "print(\"log prob: \",robo.log_probability('robo') + terremoto.log_probability('terremoto'))"
   ]
  }
 ],
 "metadata": {
  "kernelspec": {
   "display_name": "Python 3",
   "language": "python",
   "name": "python3"
  },
  "language_info": {
   "codemirror_mode": {
    "name": "ipython",
    "version": 3
   },
   "file_extension": ".py",
   "mimetype": "text/x-python",
   "name": "python",
   "nbconvert_exporter": "python",
   "pygments_lexer": "ipython3",
   "version": "3.10.9"
  },
  "vscode": {
   "interpreter": {
    "hash": "8c900cb90dee983911779de55d7a1efccb46f16c81cdf15a7b8ee95d3de3d3b1"
   }
  }
 },
 "nbformat": 4,
 "nbformat_minor": 2
}
