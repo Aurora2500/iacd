{
 "cells": [
  {
   "cell_type": "code",
   "execution_count": null,
   "metadata": {},
   "outputs": [],
   "source": [
    "import numpy as np\n",
    "import pandas as pd"
   ]
  },
  {
   "cell_type": "code",
   "execution_count": null,
   "metadata": {},
   "outputs": [],
   "source": [
    "DCC = {\n",
    "  'spa_pyt' : 0.43 * 0.89,\n",
    "  'spa_others' : 0.43 * 0.11,\n",
    "  'ger_pyt' : 0.37 * 0.95,\n",
    "  'ger_others' : 0.37 * 0.05,\n",
    "  'fre_pyt' : 0.20 * 0.61,\n",
    "  'fre_others' : 0.20 * 0.39\n",
    "}\n",
    "print(sum(DCC.values()))"
   ]
  },
  {
   "cell_type": "code",
   "execution_count": null,
   "metadata": {},
   "outputs": [],
   "source": [
    "num = DCC['fre_pyt']\n",
    "den = DCC['fre_pyt'] + DCC['spa_pyt'] + DCC['ger_pyt']\n",
    "print(num/den)"
   ]
  },
  {
   "cell_type": "markdown",
   "metadata": {},
   "source": [
    "# 2"
   ]
  },
  {
   "cell_type": "code",
   "execution_count": null,
   "metadata": {},
   "outputs": [],
   "source": [
    "pre = 711 / 100_000\n",
    "f = .0247\n",
    "likelyhood = .49\n",
    "\n",
    "print(pre)\n",
    "print(pre * likelyhood / f)       "
   ]
  }
 ],
 "metadata": {
  "kernelspec": {
   "display_name": "Python 3.10.9 64-bit",
   "language": "python",
   "name": "python3"
  },
  "language_info": {
   "codemirror_mode": {
    "name": "ipython",
    "version": 3
   },
   "file_extension": ".py",
   "mimetype": "text/x-python",
   "name": "python",
   "nbconvert_exporter": "python",
   "pygments_lexer": "ipython3",
   "version": "3.10.9"
  },
  "vscode": {
   "interpreter": {
    "hash": "e7370f93d1d0cde622a1f8e1c04877d8463912d04d973331ad4851f04de6915a"
   }
  }
 },
 "nbformat": 4,
 "nbformat_minor": 2
}
