{
 "cells": [
  {
   "attachments": {},
   "cell_type": "markdown",
   "metadata": {},
   "source": [
    "# **Redes Bayesianas**"
   ]
  },
  {
   "cell_type": "markdown",
   "metadata": {},
   "source": [
    "Supongamos una situación en la que tenemos tres variables: **Caries**, **Dolor** y **Huecos**. Por nuestro propio conocimiento, podemos inferir que la caries es la causante del dolor y/o de los huecos en los dientes. Por ese motivo representaremos la red bayesiana con tres nodos, donde el nodo **Caries** es padre de los nodos **Dolor** y **Huecos**. Representaremos en sus respectivas tablas sus valores probabilísticos."
   ]
  },
  {
   "attachments": {},
   "cell_type": "markdown",
   "metadata": {},
   "source": [
    "<img src=\"imgs/red_bayesiana.JPG\" width=50%>"
   ]
  },
  {
   "cell_type": "markdown",
   "metadata": {},
   "source": [
    "Utilizaremos la librería [*pomegranate*](https://pomegranate.readthedocs.io/en/latest/index.html) para crear la red y hacer inferencia sobre ella."
   ]
  },
  {
   "cell_type": "code",
   "execution_count": null,
   "metadata": {},
   "outputs": [],
   "source": [
    "%matplotlib inline\n",
    "from pomegranate import *\n",
    "\n",
    "caries = DiscreteDistribution({'Yes': 0.8, 'No': 0.2})\n",
    "\n",
    "dolor = ConditionalProbabilityTable(\n",
    "        [['Yes', 'True', 0.6],\n",
    "         ['Yes', 'False', 0.4],\n",
    "         ['No', 'True', 0.1],\n",
    "         ['No', 'False', 0.9]],\n",
    "         [caries])\n",
    "\n",
    "huecos = ConditionalProbabilityTable(\n",
    "        [['Yes', 'True', 0.9],\n",
    "         ['Yes', 'False', 0.1],\n",
    "         ['No', 'True', 0.2],\n",
    "         ['No', 'False', 0.8]],\n",
    "         [caries])\n",
    "\n",
    "s1 = Node(caries, name=\"caries\")\n",
    "s2 = Node(dolor, name=\"dolor\")\n",
    "s3 = Node(huecos, name=\"huecos\")\n",
    "\n",
    "model = BayesianNetwork(\"Dentista\")\n",
    "model.add_states(s1, s2, s3)\n",
    "model.add_edge(s1, s2)\n",
    "model.add_edge(s1, s3)\n",
    "\n",
    "model.bake()\n",
    "# model.plot()"
   ]
  },
  {
   "cell_type": "markdown",
   "metadata": {},
   "source": [
    "Calcularemos ahora qué probabilidad de padecer caries tenemos si nos duele una muela."
   ]
  },
  {
   "cell_type": "code",
   "execution_count": null,
   "metadata": {},
   "outputs": [],
   "source": [
    "\n",
    "# observations = { }\n",
    "# observations = { 'caries' : 'Yes'}\n",
    "observations = { 'dolor' : 'True', 'huecos': 'True'}\n",
    "\n",
    "beliefs = model.predict_proba(observations)\n",
    "\n",
    "for state, belief in zip( model.states, beliefs ):\n",
    "    if type(belief) is not str:\n",
    "        print(state.name)\n",
    "        print(\"Estado\", belief.parameters)"
   ]
  },
  {
   "attachments": {},
   "cell_type": "markdown",
   "metadata": {},
   "source": [
    "#### Ejercicio 1\n",
    "\n",
    "Calcula a mano y mediante la librería los siguientes casos:\n",
    "\n",
    "- Probabilidad de padecer caries tenemos si tenemos huecos.\n",
    "- Probabilidad de padecer caries.\n",
    "- Probabilidad de no padecer caries tenemos si tenemos huecos y dolor.\n",
    "- Probabilidad de tener huecos.\n",
    "\n",
    "Verifica que lo que calculas a mano coincide con las respuestas de la librería.\n",
    "\n",
    "#### Ejercicio 2\n",
    "\n",
    "Implementa mediante la librería la siguiente red:\n",
    "\n",
    "<img src=\"imgs/red_bayesiana_ejemplo_2.JPG\" width=50%>\n",
    "\n",
    "Calcula los valores de las diferentes variables si se produce un robo."
   ]
  },
  {
   "cell_type": "code",
   "execution_count": null,
   "metadata": {},
   "outputs": [],
   "source": [
    "%matplotlib inline\n",
    "from pomegranate import *\n",
    "\n",
    "robo = DiscreteDistribution({'Yes_robo': 0.001, 'No_robo': 0.999})\n",
    "terremoto = DiscreteDistribution({'Yes_terremoto': 0.002, 'No_terremoto': 0.998})\n",
    "\n",
    "alarma = ConditionalProbabilityTable(\n",
    "        [['Yes_robo', 'Yes_terremoto', 'Salta_alarma', 0.95],\n",
    "         ['Yes_robo', 'Yes_terremoto', 'No_salta_alarma', 0.05],\n",
    "         ['Yes_robo', 'No_terremoto', 'Salta_alarma', 0.94],\n",
    "         ['Yes_robo', 'No_terremoto', 'No_salta_alarma', 0.06],\n",
    "         ['No_robo', 'Yes_terremoto', 'Salta_alarma', 0.29],\n",
    "         ['No_robo', 'Yes_terremoto', 'No_salta_alarma', 0.71],\n",
    "         ['No_robo', 'No_terremoto', 'Salta_alarma', 0.001],\n",
    "         ['No_robo', 'No_terremoto', 'No_salta_alarma', 0.999]],\n",
    "         [robo, terremoto])\n",
    "\n",
    "juan = ConditionalProbabilityTable(\n",
    "        [['Salta_alarma','Juan_llama', 0.90],\n",
    "         ['Salta_alarma','Juan_no_llama', 0.10],\n",
    "         ['No_salta_alarma','Juan_llama', 0.05],\n",
    "         ['No_salta_alarma','Juan_no_llama', 0.95]],\n",
    "         [alarma])\n",
    "\n",
    "maria = ConditionalProbabilityTable(\n",
    "        [['Salta_alarma','Maria_llama', 0.70],\n",
    "         ['Salta_alarma','Maria_no_llama', 0.30],\n",
    "         ['No_salta_alarma','Maria_llama', 0.01],\n",
    "         ['No_salta_alarma','Maria_no_llama', 0.99]],\n",
    "         [alarma])\n",
    "\n",
    "s1 = Node(robo, name=\"Robo\")\n",
    "s2 = Node(terremoto, name=\"Terremoto\")\n",
    "s3 = Node(alarma, name=\"Alarma\")\n",
    "s4 = Node(juan, name=\"Juan\")\n",
    "s5 = Node(maria, name=\"Maria\")\n",
    "\n",
    "\n",
    "model = BayesianNetwork(\"Avisos\")\n",
    "model.add_states(s1, s2, s3, s4, s5)\n",
    "model.add_edge(s1, s3)\n",
    "model.add_edge(s2, s3)\n",
    "model.add_edge(s3, s4)\n",
    "model.add_edge(s3, s5)\n",
    "\n",
    "model.bake()\n",
    "#model.plot()"
   ]
  },
  {
   "cell_type": "code",
   "execution_count": null,
   "metadata": {},
   "outputs": [],
   "source": [
    "# observations = {}\n",
    "observations = {'Robo':'Yes_robo', 'Juan':'Juan_llama'}\n",
    "# observations = {'Robo':'Yes_robo', 'Juan':'Juan_llama', 'Terremoto':'Yes_terremoto','Maria':'Maria_llama'}\n",
    "# observations = {'Juan':'Juan_llama', 'Maria':'Maria_llama'}\n",
    "# observations = {'Alarma' : 'Salta_alarma', 'Juan':'Juan_llama', 'Maria':'Maria_llama'}\n",
    "# observations = {'Alarma' : 'Salta_alarma', 'Juan':'Juan_llama'}\n",
    "\n",
    "beliefs = model.predict_proba(observations)\n",
    "\n",
    "for state, belief in zip( model.states, beliefs ):\n",
    "    if type(belief) is not str:\n",
    "        print(state.name)\n",
    "        print(\"Estado\", belief.parameters)"
   ]
  },
  {
   "attachments": {},
   "cell_type": "markdown",
   "metadata": {},
   "source": [
    "## **Redes bayesianas a partir de datos**\n",
    "\n",
    "En un caso normal no contaremos con el DAG (directed acyclid graph) ni con las CPT (conditional probability tables). Tendremos que construir todo eso a partir de los datos que podamos recoger.\n",
    "\n",
    "El siguiente *script* nos generará un *dataframe* con 100.000 muestras con el que reconstruiremos el ejemplo anterior."
   ]
  },
  {
   "cell_type": "code",
   "execution_count": null,
   "metadata": {},
   "outputs": [],
   "source": [
    "import numpy as np\n",
    "import pandas as pd\n",
    "\n",
    "np.random.seed(666)\n",
    "\n",
    "earthquake = np.random.choice(2, 100000, p=[0.998, 0.002])\n",
    "robbery = np.random.choice(2, 100000, p=[0.999, 0.001])\n",
    "\n",
    "alarm = []\n",
    "\n",
    "for e,r in zip(earthquake, robbery):\n",
    "    if e==0 and r==0:\n",
    "        a = np.random.choice(2, p=[0.999, 0.001])\n",
    "    if e==0 and r==1:\n",
    "        a = np.random.choice(2, p=[0.06, 0.94])\n",
    "    if e==1 and r==0:\n",
    "        a = np.random.choice(2, p=[0.71, 0.29])\n",
    "    if e==1 and r==1:\n",
    "        a = np.random.choice(2, p=[0.05, 0.95])\n",
    "    alarm.append(a)\n",
    "        \n",
    "juan = []\n",
    "maria = []\n",
    "        \n",
    "for a in alarm:\n",
    "    if a==0:\n",
    "        j = np.random.choice(2, p=[0.95, 0.05])\n",
    "        m = np.random.choice(2, p=[0.99, 0.01])\n",
    "    if a==1:\n",
    "        j = np.random.choice(2, p=[0.10, 0.90])\n",
    "        m = np.random.choice(2, p=[0.30, 0.70])\n",
    "    juan.append(j)\n",
    "    maria.append(m)\n",
    "\n",
    "aux = np.stack((np.array(earthquake), np.array(robbery), np.array(alarm), np.array(juan), np.array(maria)), axis=0)\n",
    "samples = np.transpose(aux)\n",
    "\n",
    "df = pd.DataFrame(data=samples, columns=[\"E\", \"R\", \"A\", \"J\", \"M\"])\n",
    "\n",
    "df"
   ]
  },
  {
   "attachments": {},
   "cell_type": "markdown",
   "metadata": {},
   "source": [
    "Fíjate que, si no contáramos con suficientes datos, las probabilidades que calculáramos podrían no ser muy precisas."
   ]
  },
  {
   "cell_type": "code",
   "execution_count": null,
   "metadata": {},
   "outputs": [],
   "source": [
    "print(\"Porcentaje de veces que hay un robo:\", np.round( sum(df['R'])/df.shape[0],4) )"
   ]
  },
  {
   "cell_type": "code",
   "execution_count": null,
   "metadata": {},
   "outputs": [],
   "source": [
    "print(\"Porcentaje de veces que hay un terremoto:\", np.round( sum(df['E'])/df.shape[0],4) )"
   ]
  },
  {
   "cell_type": "code",
   "execution_count": null,
   "metadata": {},
   "outputs": [],
   "source": [
    "print(\"Porcentaje de veces que Juan llama cuando suena la alarma:\", np.round( sum(df['A'] * df['J']) / sum(df['A']),2) )"
   ]
  },
  {
   "cell_type": "code",
   "execution_count": null,
   "metadata": {},
   "outputs": [],
   "source": [
    "print(\"Porcentaje de veces que María llama cuando suena la alarma:\", np.round( sum(df['A'] * df['M']) / sum(df['A']),2) )"
   ]
  },
  {
   "cell_type": "markdown",
   "metadata": {},
   "source": [
    "### Creación del DAG\n",
    "\n",
    "Una vez obtenido el *dataset*, el siguiente paso será crear el DAG. Utilizaremos la librería [bnlearn](https://erdogant.github.io/bnlearn/pages/html/index.html). Para ello haremos:"
   ]
  },
  {
   "cell_type": "code",
   "execution_count": null,
   "metadata": {},
   "outputs": [],
   "source": [
    "import bnlearn as bn\n",
    "\n",
    "DAG = bn.structure_learning.fit(df, methodtype='ex', scoretype='bic')"
   ]
  },
  {
   "cell_type": "code",
   "execution_count": null,
   "metadata": {},
   "outputs": [],
   "source": [
    "# print adjacency matrix\n",
    "print(DAG['adjmat'])"
   ]
  },
  {
   "cell_type": "code",
   "execution_count": null,
   "metadata": {},
   "outputs": [],
   "source": [
    "# bn.plot(DAG, interactive=True, params_interactive={'notebook':True})\n",
    "bn.plot(DAG)"
   ]
  },
  {
   "attachments": {},
   "cell_type": "markdown",
   "metadata": {},
   "source": [
    "Por supuesto, es posible también crear el DAG a mano."
   ]
  },
  {
   "cell_type": "code",
   "execution_count": null,
   "metadata": {},
   "outputs": [],
   "source": [
    "# Import the library\n",
    "import bnlearn\n",
    "\n",
    "# Define the network structure\n",
    "edges = [('Cloudy', 'Sprinkler'),\n",
    "         ('Cloudy', 'Rain'),\n",
    "         ('Sprinkler', 'Wet_Grass'),\n",
    "         ('Rain', 'Wet_Grass')]\n",
    "\n",
    "# Make the actual Bayesian DAG\n",
    "DAG_water = bnlearn.make_DAG(edges)\n",
    "\n",
    "bnlearn.plot(DAG_water)"
   ]
  },
  {
   "cell_type": "markdown",
   "metadata": {},
   "source": [
    "### Aprendizaje de los parámetros\n",
    "\n",
    "A partir del grafo y de los datos es posible crear las tablas de probabilidad condicionada."
   ]
  },
  {
   "cell_type": "code",
   "execution_count": null,
   "metadata": {},
   "outputs": [],
   "source": [
    "model = bn.parameter_learning.fit(DAG, df, methodtype='maximumlikelihood')"
   ]
  },
  {
   "cell_type": "markdown",
   "metadata": {},
   "source": [
    "### Inferencia"
   ]
  },
  {
   "cell_type": "code",
   "execution_count": null,
   "metadata": {},
   "outputs": [],
   "source": [
    "# q1 = bn.inference.fit(model, variables=['A','M'], evidence={'R':1, 'J':1})\n",
    "q1 = bn.inference.fit(model, variables=['A'], evidence={'R':0, 'E':1})\n",
    "print(q1.df)"
   ]
  },
  {
   "cell_type": "code",
   "execution_count": null,
   "metadata": {},
   "outputs": [],
   "source": [
    "q2 = bn.inference.fit(model, variables=['J','M'], evidence={'R':1, 'A':1, 'E':1})\n",
    "print(q2.df)"
   ]
  },
  {
   "cell_type": "markdown",
   "metadata": {},
   "source": [
    "### Almacenamiento y carga del modelo\n",
    "\n",
    "Cuando tenemos gran cantidad de datos y muchas variables, el proceso de encontrar el DAG y calcular las CPT puede ser muy costoso. En ese caso, es necesario contar con funciones para almacenar y recuperar nuestra red bayesiana."
   ]
  },
  {
   "cell_type": "code",
   "execution_count": null,
   "metadata": {},
   "outputs": [],
   "source": [
    "# Save model\n",
    "bn.save(model, filepath='bnlearn_model', overwrite=True)\n",
    "\n",
    "# Load model\n",
    "model = bn.load(filepath='bnlearn_model')"
   ]
  },
  {
   "cell_type": "markdown",
   "metadata": {},
   "source": [
    "### Ejercicios\n",
    "\n",
    "1) Calcula las CPTs de las variables *Earthquake* y *Alarm* y comprueba que obtienes los mismos valores que los dados por la librería <code>bn.parameter_learning.fit</code>."
   ]
  },
  {
   "cell_type": "code",
   "execution_count": null,
   "metadata": {},
   "outputs": [],
   "source": [
    "print(np.round( sum((1-df['R']))/df.shape[0],7) )"
   ]
  },
  {
   "cell_type": "markdown",
   "metadata": {},
   "source": [
    "2) Utilizando el dataset \"asia\", que ya viene incluido en la librería, realiza las siguientes tareas:\n",
    "- Crear su correspondiente DAG. Prueba otros valores para el parámetro <code>methodtype</code>, como **hc**.\n",
    "- Calcular las CPT.\n",
    "- Hacer las inferencias:\n",
    "    - ¿Qué probabilidad hay de tener disnea siendo fumador?\n",
    "    - ¿Qué probabilidad hay de tener una radiografía positiva siendo fumador habiendo visitado Asia?\n",
    "    \n",
    "La figura siguiente muestra el grafo original. Comprueba que el DAG calculado coincide con éste.\n",
    "\n",
    "<img src=\"imgs/ASIA_BN.jpeg\" width=40%/>"
   ]
  },
  {
   "cell_type": "code",
   "execution_count": null,
   "metadata": {},
   "outputs": [],
   "source": [
    "import bnlearn as bn\n",
    "df_asia = bn.import_example('asia', n=10000)\n",
    "print(df_asia)"
   ]
  },
  {
   "cell_type": "code",
   "execution_count": null,
   "metadata": {},
   "outputs": [],
   "source": [
    "edges = [\n",
    "    ('asia', 'tub'),\n",
    "    ('tub', 'either'),\n",
    "    ('smoke', 'lung'),\n",
    "    ('smoke', 'bronc'),\n",
    "    ('lung', 'either'),\n",
    "    ('either', 'xray'),\n",
    "    ('either', 'dysp'),\n",
    "    ('bronc', 'dysp'),\n",
    "]\n",
    "\n",
    "dag_asia = bn.make_DAG(edges)\n",
    "model_asia = bn.parameter_learning.fit(dag_asia, df_asia, methodtype='maximumlikelihood')\n",
    "bn.plot(dag_asia)"
   ]
  },
  {
   "cell_type": "code",
   "execution_count": null,
   "metadata": {},
   "outputs": [],
   "source": [
    "bn.inference.fit(model_asia, variables=['dysp'], evidence={'smoke':1})"
   ]
  },
  {
   "cell_type": "markdown",
   "metadata": {},
   "source": [
    "## Referencias\n",
    "\n",
    "https://towardsdatascience.com/a-step-by-step-guide-in-detecting-causal-relationships-using-bayesian-structure-learning-in-python-c20c6b31cee5"
   ]
  }
 ],
 "metadata": {
  "kernelspec": {
   "display_name": "Python 3",
   "language": "python",
   "name": "python3"
  },
  "language_info": {
   "codemirror_mode": {
    "name": "ipython",
    "version": 3
   },
   "file_extension": ".py",
   "mimetype": "text/x-python",
   "name": "python",
   "nbconvert_exporter": "python",
   "pygments_lexer": "ipython3",
   "version": "3.10.9"
  },
  "vscode": {
   "interpreter": {
    "hash": "8c900cb90dee983911779de55d7a1efccb46f16c81cdf15a7b8ee95d3de3d3b1"
   }
  }
 },
 "nbformat": 4,
 "nbformat_minor": 2
}
