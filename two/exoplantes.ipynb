{
 "cells": [
  {
   "cell_type": "code",
   "execution_count": null,
   "metadata": {},
   "outputs": [],
   "source": [
    "import pandas as pd\n",
    "import numpy as np\n",
    "import bnlearn as bn\n",
    "import matplotlib.pyplot as plt"
   ]
  },
  {
   "cell_type": "code",
   "execution_count": null,
   "metadata": {},
   "outputs": [],
   "source": [
    "df = pd.read_excel('exoplanets.xls')\n",
    "df.head()"
   ]
  },
  {
   "cell_type": "code",
   "execution_count": null,
   "metadata": {},
   "outputs": [],
   "source": [
    "fig, axs = plt.subplots(1, 5, figsize=(20, 5))\n",
    "bins = 100\n",
    "df['radius (m)'].plot.hist(bins=bins, ax=axs[0])\n",
    "df['mass (kg)'].plot.hist(bins=bins, ax=axs[1])\n",
    "df['gravity'].plot.hist(bins=bins, ax=axs[2])\n",
    "df['avg_temp (C)'].plot.hist(bins=bins, ax=axs[3])\n",
    "df['rotational_period (h)'].plot.hist(bins=bins, ax=axs[4])"
   ]
  },
  {
   "cell_type": "code",
   "execution_count": null,
   "metadata": {},
   "outputs": [],
   "source": [
    "variables = [\n",
    "    ('radius (m)', 'radius'),\n",
    "    ('mass (kg)', 'mass'),\n",
    "    ('gravity', 'gravity'),\n",
    "    ('avg_temp (C)', 'avg_temp'),\n",
    "    ('rotational_period (h)', 'rotational_period'),\n",
    "]\n",
    "\n",
    "for old_name, new_name in variables:\n",
    "    q1, q2, qmax = df[old_name].quantile([1/3, 2/3, 1])\n",
    "    series = pd.cut(df[old_name], [0, q1, q2, qmax], labels=['small', 'medium', 'large'])\n",
    "    series.name = new_name\n",
    "    del df[old_name]\n",
    "    df[new_name] = series\n",
    "\n",
    "df.head()"
   ]
  },
  {
   "cell_type": "code",
   "execution_count": null,
   "metadata": {},
   "outputs": [],
   "source": [
    "exo_dag = bn.structure_learning.fit(df, methodtype='hc', scoretype='bic')"
   ]
  },
  {
   "cell_type": "code",
   "execution_count": null,
   "metadata": {},
   "outputs": [],
   "source": [
    "print(exo_dag['adjmat'])\n",
    "bn.plot(exo_dag, interactive=True)"
   ]
  },
  {
   "cell_type": "code",
   "execution_count": null,
   "metadata": {},
   "outputs": [],
   "source": [
    "adjmat = exo_dag['adjmat']\n",
    "\n",
    "edges = [\n",
    "  ('radius', 'mass'),\n",
    "  ('mass', 'gravity'),\n",
    "  ('atmosphere', 'avg_temp'),\n",
    "  ('water', 'avg_temp'),\n",
    "  ('gravity', 'atmosphere'),\n",
    "  ('water', 'life'),\n",
    "  ('oxygene', 'life'),\n",
    "  ('atmosphere', 'oxygene'),\n",
    "  ('avg_temp', 'life'),\n",
    "]\n",
    "\n",
    "false_edges = [\n",
    "  ('atmosphere', 'mass'),\n",
    "]\n",
    "\n",
    "for (source, target) in edges:\n",
    "  adjmat.loc[target, source] = False\n",
    "  adjmat.loc[source, target] = True\n",
    "\n",
    "for (source, target) in false_edges:\n",
    "  adjmat.loc[target, source] = False\n",
    "  adjmat.loc[source, target] = False\n",
    "\n",
    "adjmat.fillna(False, inplace=True)\n",
    "adjmat"
   ]
  },
  {
   "cell_type": "code",
   "execution_count": null,
   "metadata": {},
   "outputs": [],
   "source": [
    "exo_dag['adjmat'] = adjmat\n",
    "bn.plot(exo_dag, interactive=True)"
   ]
  },
  {
   "cell_type": "code",
   "execution_count": null,
   "metadata": {},
   "outputs": [],
   "source": [
    "dag_names = set(adjmat.columns)\n",
    "\n",
    "df_names = set(df.columns)\n",
    "\n",
    "print(dag_names)\n",
    "print(df_names)\n",
    "print(dag_names - df_names)"
   ]
  },
  {
   "cell_type": "code",
   "execution_count": null,
   "metadata": {},
   "outputs": [],
   "source": [
    "exo_model = bn.parameter_learning.fit(exo_dag, df, methodtype='maximumlikelihood')"
   ]
  },
  {
   "cell_type": "code",
   "execution_count": null,
   "metadata": {},
   "outputs": [],
   "source": [
    "bn.inference.fit(exo_model, variables=['mass', 'avg_temp'], evidence={'life': 'YES'})"
   ]
  },
  {
   "cell_type": "code",
   "execution_count": null,
   "metadata": {},
   "outputs": [],
   "source": [
    "dir(exo_model['model'])"
   ]
  }
 ],
 "metadata": {
  "kernelspec": {
   "display_name": "Python 3",
   "language": "python",
   "name": "python3"
  },
  "language_info": {
   "codemirror_mode": {
    "name": "ipython",
    "version": 3
   },
   "file_extension": ".py",
   "mimetype": "text/x-python",
   "name": "python",
   "nbconvert_exporter": "python",
   "pygments_lexer": "ipython3",
   "version": "3.10.9"
  },
  "vscode": {
   "interpreter": {
    "hash": "8c900cb90dee983911779de55d7a1efccb46f16c81cdf15a7b8ee95d3de3d3b1"
   }
  }
 },
 "nbformat": 4,
 "nbformat_minor": 2
}
