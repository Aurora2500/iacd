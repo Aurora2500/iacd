{
 "cells": [
  {
   "cell_type": "code",
   "execution_count": null,
   "metadata": {},
   "outputs": [],
   "source": [
    "import pandas as pd\n",
    "import numpy as np\n",
    "import bnlearn as bn\n",
    "import matplotlib.pyplot as plt"
   ]
  },
  {
   "cell_type": "code",
   "execution_count": null,
   "metadata": {},
   "outputs": [],
   "source": [
    "df = pd.read_excel('exoplanets.xls')\n",
    "df.head()"
   ]
  },
  {
   "cell_type": "code",
   "execution_count": null,
   "metadata": {},
   "outputs": [],
   "source": [
    "fig, axs = plt.subplots(1, 5, figsize=(20, 5))\n",
    "bins = 100\n",
    "df['radius (m)'].plot.hist(bins=bins, ax=axs[0])\n",
    "df['mass (kg)'].plot.hist(bins=bins, ax=axs[1])\n",
    "df['gravity'].plot.hist(bins=bins, ax=axs[2])\n",
    "df['avg_temp (C)'].plot.hist(bins=bins, ax=axs[3])\n",
    "df['rotational_period (h)'].plot.hist(bins=bins, ax=axs[4])"
   ]
  },
  {
   "cell_type": "code",
   "execution_count": null,
   "metadata": {},
   "outputs": [],
   "source": [
    "radius_q1, radius_q2, radius_max = df['radius (m)'].quantile([1/3, 2/3, 1])\n",
    "radius_series = pd.cut(df['radius (m)'], [0, radius_q1, radius_q2, radius_max], labels=['small', 'medium', 'large'])\n",
    "radius_series.name = 'radius'\n",
    "\n",
    "radius_series.value_counts().plot(kind='bar')"
   ]
  }
 ],
 "metadata": {
  "kernelspec": {
   "display_name": "Python 3",
   "language": "python",
   "name": "python3"
  },
  "language_info": {
   "codemirror_mode": {
    "name": "ipython",
    "version": 3
   },
   "file_extension": ".py",
   "mimetype": "text/x-python",
   "name": "python",
   "nbconvert_exporter": "python",
   "pygments_lexer": "ipython3",
   "version": "3.10.9"
  },
  "vscode": {
   "interpreter": {
    "hash": "8c900cb90dee983911779de55d7a1efccb46f16c81cdf15a7b8ee95d3de3d3b1"
   }
  }
 },
 "nbformat": 4,
 "nbformat_minor": 2
}
